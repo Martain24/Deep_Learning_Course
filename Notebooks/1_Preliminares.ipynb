{
 "cells": [
  {
   "cell_type": "markdown",
   "metadata": {},
   "source": [
    "## Data Manipulation\n",
    "\n",
    "<span style=\"font-size:20px\">\n",
    "\n",
    "Hay dos cosas que podemos hacer con los datos.\n",
    "- Adquirirlos y guardarlos.\n",
    "- Procesarlos usando Python."
   ]
  },
  {
   "cell_type": "markdown",
   "metadata": {},
   "source": [
    "### Entendiendo el concepto de Tensor."
   ]
  },
  {
   "cell_type": "markdown",
   "metadata": {},
   "source": [
    "<span style=\"font-size:20px\">\n",
    "\n",
    "**Definición**. Un *tensor* es una lista ordenada de números.\n",
    "\n",
    "**Ejemplo**. $x=(1,\\:0.4,\\:5)$ es un tensor de tamaño $3$, porque tiene $3$ componentes a lo largo de una única fila.\n",
    "\n",
    "Representación general de un vector: $x=(x_1,x_2,...,x_n)$. Fíjate que $x_i$ denota la componente $i$ de $x$.\n",
    "\n",
    "Se pueden tener tensores cuyos valores estén ordenados en varias filas (**matrices**):\n",
    "\n",
    "$$A = \\begin{bmatrix}2&1&4&\\\\\n",
    "0.5&6&2&\\\\\n",
    "-5&1.2&90\\\\\n",
    "-100&8&90\n",
    "\\end{bmatrix}\n",
    "\\:\\:\\:\\:\\:X=\\begin{bmatrix}x_{11}&x_{12}&...&x_{1n}\\\\\n",
    "x_{21}&x_{22}&...&x_{2n}\\\\\n",
    "...&...&...&...\\\\\n",
    "x_{m1}&x_{m2}&...&x_{mn} \n",
    "\\end{bmatrix}$$\n",
    "\n",
    "$x_{ij}$ es la componente $j$ de la fila número $i$. \n",
    "\n",
    "La matriz tiene tamaño $m\\times n$ porque tiene $m$ filas de $n$ componentes cada una.\n",
    "\n",
    "La matriz tiene tamaño $m\\times n$ porque tiene $n$ columnas de $m$ componenetes cada una.\n",
    "\n",
    "**Observación**. Podemos tener tensores de tamaño $p\\times m\\times n$ formados por $p$ matrices de tamaño $m\\times n$.\n",
    "\n",
    "Decimos que un vector es un tensor de 1 dimensión; una matriz es un tensor de 2 dimensiones y un tensor de tamaño $p\\times m\\times n$ es de 3 dimensiones.\n",
    "\n",
    "Podemos tener tensores de tamaño $q\\times p\\times m\\times n$ y así hasta el infinito.\n",
    "\n",
    "De forma general, un tensor tendrá $k$ dimensiones si necesitamos $k$ números para especificar su tamaño."
   ]
  },
  {
   "cell_type": "code",
   "execution_count": 2,
   "metadata": {},
   "outputs": [],
   "source": [
    "# Para empezar importamos la librería PyTorch\n",
    "import torch"
   ]
  },
  {
   "cell_type": "code",
   "execution_count": 3,
   "metadata": {},
   "outputs": [
    {
     "data": {
      "text/plain": [
       "tensor([ 0,  1,  2,  3,  4,  5,  6,  7,  8,  9, 10, 11])"
      ]
     },
     "execution_count": 3,
     "metadata": {},
     "output_type": "execute_result"
    }
   ],
   "source": [
    "# Crear vector de todos los enteros entre 0 y 11.\n",
    "x = torch.arange(0, 12)   # El número final no se incluye en el tensor.\n",
    "x"
   ]
  },
  {
   "cell_type": "code",
   "execution_count": 4,
   "metadata": {},
   "outputs": [
    {
     "data": {
      "text/plain": [
       "12"
      ]
     },
     "execution_count": 4,
     "metadata": {},
     "output_type": "execute_result"
    }
   ],
   "source": [
    "# Acceder al número de componentes.\n",
    "x.numel()"
   ]
  },
  {
   "cell_type": "code",
   "execution_count": 4,
   "metadata": {},
   "outputs": [
    {
     "data": {
      "text/plain": [
       "torch.Size([12])"
      ]
     },
     "execution_count": 4,
     "metadata": {},
     "output_type": "execute_result"
    }
   ],
   "source": [
    "# Acceder al tamaño del tensor.\n",
    "x.shape"
   ]
  },
  {
   "cell_type": "code",
   "execution_count": 6,
   "metadata": {},
   "outputs": [
    {
     "data": {
      "text/plain": [
       "1"
      ]
     },
     "execution_count": 6,
     "metadata": {},
     "output_type": "execute_result"
    }
   ],
   "source": [
    "# ¿Cuántas dimensiones tiene nuestro tensor?\n",
    "x.ndim"
   ]
  },
  {
   "cell_type": "code",
   "execution_count": 6,
   "metadata": {},
   "outputs": [],
   "source": [
    "def info_tensor(tensor):\n",
    "    print(tensor, \"\\n\")\n",
    "    print(f\"Tamaño: {tensor.shape}\")\n",
    "    print(f\"Num dim: {tensor.ndim}\")"
   ]
  },
  {
   "cell_type": "code",
   "execution_count": 7,
   "metadata": {},
   "outputs": [
    {
     "data": {
      "text/plain": [
       "tensor([[ 0,  1,  2,  3],\n",
       "        [ 4,  5,  6,  7],\n",
       "        [ 8,  9, 10, 11]])"
      ]
     },
     "execution_count": 7,
     "metadata": {},
     "output_type": "execute_result"
    }
   ],
   "source": [
    "# Cambiar tamaño del vector sin alterar valores\n",
    "x.reshape(3, 4)"
   ]
  },
  {
   "cell_type": "code",
   "execution_count": 26,
   "metadata": {},
   "outputs": [
    {
     "name": "stdout",
     "output_type": "stream",
     "text": [
      "tensor([[ 0,  1,  2,  3],\n",
      "        [ 4,  5,  6,  7],\n",
      "        [ 8,  9, 10, 11]]) \n",
      "\n",
      "Tamaño: torch.Size([3, 4])\n",
      "Num dim: 2\n"
     ]
    }
   ],
   "source": [
    "info_tensor(x.reshape(3, 4))"
   ]
  },
  {
   "cell_type": "markdown",
   "metadata": {},
   "source": [
    "<span style=\"font-size:20px\">\n",
    "\n",
    "Una matriz de tamaño $m\\times n$ tiene exactamente $m\\cdot n$ componentes.\n",
    "\n",
    "Supón que tenemos un vector de $n$ componentes y queremos transformarlo en una matriz de $w$ filas.\n",
    "\n",
    "Entonces, para que quepan las $n$ componentes en la matriz necesariamente tendrá que haber $n/w$ columnas, porque $w\\cdot n/w=n$.\n",
    "\n",
    "Es decir, supón que tenemos un vector de $n$ componentes:\n",
    "- Si queremos transformarlo en una matriz de $w$ filas, necesariamente la matriz tendrá $n/w$ columnas.\n",
    "- Si queremos transformarlo en una matriz de $p$ columnas, necesariamente la matriz tendrá $n/p$ filas.\n",
    "\n",
    "Si ponemos $-1$, PyTorch calculará automáticamente el número de filas o de columnas que tiene que tener la nueva matriz."
   ]
  },
  {
   "cell_type": "code",
   "execution_count": 9,
   "metadata": {},
   "outputs": [
    {
     "data": {
      "text/plain": [
       "tensor([[ 0,  1,  2,  3],\n",
       "        [ 4,  5,  6,  7],\n",
       "        [ 8,  9, 10, 11]])"
      ]
     },
     "execution_count": 9,
     "metadata": {},
     "output_type": "execute_result"
    }
   ],
   "source": [
    "# Queremos que tenga 3 filas.\n",
    "x.reshape(3, -1)"
   ]
  },
  {
   "cell_type": "code",
   "execution_count": 10,
   "metadata": {},
   "outputs": [
    {
     "data": {
      "text/plain": [
       "tensor([[ 0,  1,  2,  3,  4,  5],\n",
       "        [ 6,  7,  8,  9, 10, 11]])"
      ]
     },
     "execution_count": 10,
     "metadata": {},
     "output_type": "execute_result"
    }
   ],
   "source": [
    "# Queremos que tenga 6 columnas\n",
    "x.reshape(-1, 6)"
   ]
  },
  {
   "cell_type": "code",
   "execution_count": 11,
   "metadata": {},
   "outputs": [
    {
     "data": {
      "text/plain": [
       "tensor([[ 0],\n",
       "        [ 1],\n",
       "        [ 2],\n",
       "        [ 3],\n",
       "        [ 4],\n",
       "        [ 5],\n",
       "        [ 6],\n",
       "        [ 7],\n",
       "        [ 8],\n",
       "        [ 9],\n",
       "        [10],\n",
       "        [11]])"
      ]
     },
     "execution_count": 11,
     "metadata": {},
     "output_type": "execute_result"
    }
   ],
   "source": [
    "# Queremos convertir el vector en una matriz columna.\n",
    "x.reshape(-1, 1)"
   ]
  },
  {
   "cell_type": "code",
   "execution_count": 23,
   "metadata": {},
   "outputs": [
    {
     "name": "stdout",
     "output_type": "stream",
     "text": [
      "No se puede hacer el reshape porque 5 no es múltiplo de 12.\n"
     ]
    }
   ],
   "source": [
    "# Si ponemos un número que no es múltiplo de 12 obtenemos error\n",
    "num_filas = 5\n",
    "\n",
    "try:\n",
    "    info_tensor(x.reshape(num_filas, -1))\n",
    "except:\n",
    "    print(f\"No se puede hacer el reshape porque {num_filas} no es múltiplo de 12.\")"
   ]
  },
  {
   "cell_type": "markdown",
   "metadata": {},
   "source": [
    "<span style=\"font-size:20px\">\n",
    "Otras funciones interesantes para generar tensores y viendo tensores de 3 dimensiones."
   ]
  },
  {
   "cell_type": "code",
   "execution_count": 24,
   "metadata": {},
   "outputs": [
    {
     "name": "stdout",
     "output_type": "stream",
     "text": [
      "tensor([[[0., 0., 0., 0.],\n",
      "         [0., 0., 0., 0.]],\n",
      "\n",
      "        [[0., 0., 0., 0.],\n",
      "         [0., 0., 0., 0.]],\n",
      "\n",
      "        [[0., 0., 0., 0.],\n",
      "         [0., 0., 0., 0.]]]) \n",
      "\n",
      "Tamaño: torch.Size([3, 2, 4])\n",
      "Num dim: 3\n"
     ]
    }
   ],
   "source": [
    "zeros = torch.zeros((3, 2, 4))\n",
    "info_tensor(zeros)"
   ]
  },
  {
   "cell_type": "code",
   "execution_count": 14,
   "metadata": {},
   "outputs": [
    {
     "name": "stdout",
     "output_type": "stream",
     "text": [
      "tensor([[[1., 1.],\n",
      "         [1., 1.]],\n",
      "\n",
      "        [[1., 1.],\n",
      "         [1., 1.]],\n",
      "\n",
      "        [[1., 1.],\n",
      "         [1., 1.]]]) \n",
      "\n",
      "Tamaño: torch.Size([3, 2, 2])\n",
      "Num dim: 3\n"
     ]
    }
   ],
   "source": [
    "unos = torch.ones((3, 2, 2))\n",
    "info_tensor(unos)"
   ]
  },
  {
   "cell_type": "code",
   "execution_count": 15,
   "metadata": {},
   "outputs": [
    {
     "name": "stdout",
     "output_type": "stream",
     "text": [
      "tensor([[[-0.4453, -1.4522, -0.0496, -1.9835],\n",
      "         [-0.7554, -2.3448,  0.6313, -0.9585],\n",
      "         [ 1.5574, -0.9879, -2.3464,  0.7379]],\n",
      "\n",
      "        [[ 1.5828, -1.4738,  0.6353, -0.5384],\n",
      "         [ 0.5153,  1.1673, -0.9114,  0.8058],\n",
      "         [-0.2308,  0.6167, -0.6574, -1.0875]]]) \n",
      "\n",
      "Tamaño: torch.Size([2, 3, 4])\n",
      "Num dim: 3\n"
     ]
    }
   ],
   "source": [
    "# Números aleatorios tomados de la distribución normal con media=0 y std=1\n",
    "normal_random = torch.randn(2, 3, 4)\n",
    "info_tensor(normal_random)"
   ]
  },
  {
   "cell_type": "code",
   "execution_count": 16,
   "metadata": {},
   "outputs": [
    {
     "name": "stdout",
     "output_type": "stream",
     "text": [
      "tensor([[-422, -100,   -5,  -75],\n",
      "        [-582, -257, -453, -752],\n",
      "        [-643,  -38, -573, -460],\n",
      "        [-647, -518, -455, -600],\n",
      "        [-687, -521, -426, -969]]) \n",
      "\n",
      "Tamaño: torch.Size([5, 4])\n",
      "Num dim: 2\n"
     ]
    }
   ],
   "source": [
    "# Números aleatorios entre dos enteros que especifiquemos\n",
    "int_random = torch.randint(-1000, 10, (5, 4))\n",
    "info_tensor(int_random)"
   ]
  },
  {
   "cell_type": "code",
   "execution_count": 17,
   "metadata": {},
   "outputs": [
    {
     "data": {
      "text/plain": [
       "tensor([[2, 1, 4, 3],\n",
       "        [1, 2, 3, 4],\n",
       "        [4, 3, 2, 1]])"
      ]
     },
     "execution_count": 17,
     "metadata": {},
     "output_type": "execute_result"
    }
   ],
   "source": [
    "# Podemos crear un tensor \"a mano\" pasandole una lista de Python\n",
    "torch.tensor([[2, 1, 4, 3], [1, 2, 3, 4], [4, 3, 2, 1]])"
   ]
  },
  {
   "cell_type": "markdown",
   "metadata": {},
   "source": [
    "### Indexing and Slicing\n",
    "\n",
    "<span style=\"font-size:20px\">\n",
    "\n",
    "- Voy a suponer que ya sabes como acceder a elementos de listas de Python a través de sus indices."
   ]
  },
  {
   "cell_type": "code",
   "execution_count": 18,
   "metadata": {},
   "outputs": [
    {
     "name": "stdout",
     "output_type": "stream",
     "text": [
      "tensor([[-17, -15,   5,   0,  -1],\n",
      "        [-19,  -6, -15,  11,   9],\n",
      "        [-18,  -4,  -7,  12, -20],\n",
      "        [-15, -14,  13, -10,  -8]]) \n",
      "\n",
      "Tamaño: torch.Size([4, 5])\n",
      "Num dim: 2\n"
     ]
    }
   ],
   "source": [
    "X = torch.randint(-20, 20, (4, 5))\n",
    "info_tensor(X)"
   ]
  },
  {
   "cell_type": "code",
   "execution_count": 19,
   "metadata": {},
   "outputs": [
    {
     "name": "stdout",
     "output_type": "stream",
     "text": [
      "Primera fila: tensor([-17, -15,   5,   0,  -1])\n",
      "Última fila: tensor([-19,  -6, -15,  11,   9])\n"
     ]
    }
   ],
   "source": [
    "# Acceder a la primera y última fila.\n",
    "print(f\"Primera fila: {X[0]}\")\n",
    "print(f\"Última fila: {X[1]}\")"
   ]
  },
  {
   "cell_type": "code",
   "execution_count": 20,
   "metadata": {},
   "outputs": [
    {
     "data": {
      "text/plain": [
       "tensor(-14)"
      ]
     },
     "execution_count": 20,
     "metadata": {},
     "output_type": "execute_result"
    }
   ],
   "source": [
    "# Acceder al segundo elemento de la primera fila\n",
    "fila = 3\n",
    "col = 1\n",
    "X[fila, col]"
   ]
  },
  {
   "cell_type": "code",
   "execution_count": 21,
   "metadata": {},
   "outputs": [
    {
     "data": {
      "text/plain": [
       "tensor([[-18,  -4,  -7,  12, -20],\n",
       "        [-15, -14,  13, -10,  -8]])"
      ]
     },
     "execution_count": 21,
     "metadata": {},
     "output_type": "execute_result"
    }
   ],
   "source": [
    "# Acceder a las dos últimas filas\n",
    "X[-2:]"
   ]
  },
  {
   "cell_type": "code",
   "execution_count": 22,
   "metadata": {},
   "outputs": [
    {
     "data": {
      "text/plain": [
       "tensor([[-18,  -4],\n",
       "        [-15, -14]])"
      ]
     },
     "execution_count": 22,
     "metadata": {},
     "output_type": "execute_result"
    }
   ],
   "source": [
    "# Acceder a las 2 primeras columnas de las 2 últimas filas\n",
    "X[-2:, 0:2]"
   ]
  },
  {
   "cell_type": "code",
   "execution_count": 23,
   "metadata": {},
   "outputs": [
    {
     "name": "stdout",
     "output_type": "stream",
     "text": [
      "tensor([[[ 17,   2,  18, -11,  15],\n",
      "         [ 18, -10,   2,  -1,   9],\n",
      "         [ -4,  -6,   2,   3,  -7],\n",
      "         [-14,  -9,   7,  14,  -2]],\n",
      "\n",
      "        [[ -1, -11,   0,  13, -11],\n",
      "         [ -3,  13,   7,  19,   1],\n",
      "         [ 15, -12,  -9,  12, -19],\n",
      "         [ -3,   3,  -3, -15,   3]],\n",
      "\n",
      "        [[-13,  12, -19, -11,  -4],\n",
      "         [-18,  -9,   9,  -7,   3],\n",
      "         [  6,  -2, -12,   0,   1],\n",
      "         [ -9,   3,   0,  12,  17]]]) \n",
      "\n",
      "Tamaño: torch.Size([3, 4, 5])\n",
      "Num dim: 3\n"
     ]
    }
   ],
   "source": [
    "Y = torch.randint(-20, 20, (3, 4, 5))\n",
    "info_tensor(Y)"
   ]
  },
  {
   "cell_type": "code",
   "execution_count": 24,
   "metadata": {},
   "outputs": [
    {
     "data": {
      "text/plain": [
       "tensor([[ 17,   2,  18, -11,  15],\n",
       "        [ 18, -10,   2,  -1,   9],\n",
       "        [ -4,  -6,   2,   3,  -7],\n",
       "        [-14,  -9,   7,  14,  -2]])"
      ]
     },
     "execution_count": 24,
     "metadata": {},
     "output_type": "execute_result"
    }
   ],
   "source": [
    "# Acceder a la primera matriz\n",
    "Y[0]"
   ]
  },
  {
   "cell_type": "code",
   "execution_count": 25,
   "metadata": {},
   "outputs": [
    {
     "data": {
      "text/plain": [
       "tensor([[ 17,   2,  18, -11,  15],\n",
       "        [ 18, -10,   2,  -1,   9]])"
      ]
     },
     "execution_count": 25,
     "metadata": {},
     "output_type": "execute_result"
    }
   ],
   "source": [
    "# Acceder a las dos primeras filas de la primera matriz \n",
    "Y[0, 0:2]"
   ]
  },
  {
   "cell_type": "code",
   "execution_count": 26,
   "metadata": {},
   "outputs": [
    {
     "data": {
      "text/plain": [
       "tensor([[-11,  15],\n",
       "        [ -1,   9]])"
      ]
     },
     "execution_count": 26,
     "metadata": {},
     "output_type": "execute_result"
    }
   ],
   "source": [
    "# Acceder a las dos últimas columnas de la matriz anterior.\n",
    "Y[0, 0:2, -2:]"
   ]
  },
  {
   "cell_type": "code",
   "execution_count": 27,
   "metadata": {},
   "outputs": [
    {
     "data": {
      "text/plain": [
       "tensor([[[ -1, -11,   0,  13, -11],\n",
       "         [ -3,  13,   7,  19,   1],\n",
       "         [ 15, -12,  -9,  12, -19],\n",
       "         [ -3,   3,  -3, -15,   3]],\n",
       "\n",
       "        [[-13,  12, -19, -11,  -4],\n",
       "         [-18,  -9,   9,  -7,   3],\n",
       "         [  6,  -2, -12,   0,   1],\n",
       "         [ -9,   3,   0,  12,  17]]])"
      ]
     },
     "execution_count": 27,
     "metadata": {},
     "output_type": "execute_result"
    }
   ],
   "source": [
    "# Acceder a las dos últimas matrices\n",
    "Y[1:]"
   ]
  },
  {
   "cell_type": "code",
   "execution_count": 28,
   "metadata": {},
   "outputs": [
    {
     "data": {
      "text/plain": [
       "tensor([[[ -1, -11,   0,  13, -11],\n",
       "         [ -3,  13,   7,  19,   1]],\n",
       "\n",
       "        [[-13,  12, -19, -11,  -4],\n",
       "         [-18,  -9,   9,  -7,   3]]])"
      ]
     },
     "execution_count": 28,
     "metadata": {},
     "output_type": "execute_result"
    }
   ],
   "source": [
    "# Acceder a las dos primeras filas de las dos últimas matrices\n",
    "Y[1:, 0:2]"
   ]
  },
  {
   "cell_type": "code",
   "execution_count": 29,
   "metadata": {},
   "outputs": [
    {
     "data": {
      "text/plain": [
       "tensor([[[  0,  13, -11],\n",
       "         [  7,  19,   1]],\n",
       "\n",
       "        [[-19, -11,  -4],\n",
       "         [  9,  -7,   3]]])"
      ]
     },
     "execution_count": 29,
     "metadata": {},
     "output_type": "execute_result"
    }
   ],
   "source": [
    "# Acceder a las 3 últimas columnas de las matrices anteriores.\n",
    "Y[1:, 0:2, -3:]"
   ]
  },
  {
   "cell_type": "markdown",
   "metadata": {},
   "source": [
    "<span style=\"font-size:20px\">\n",
    "\n",
    "- Lo mejor que puedes hacer para acostumbrarte a manejar los índices es practicar y practicar.\n"
   ]
  },
  {
   "cell_type": "markdown",
   "metadata": {},
   "source": [
    "### Operaciones con Tensores.\n",
    "\n",
    "<span style=\"font-size:20px\">\n",
    "\n",
    "- Los tensores de PyTorch se pueden manipular de forma sencilla con operaciones y funciones matemáticas."
   ]
  },
  {
   "cell_type": "code",
   "execution_count": 30,
   "metadata": {},
   "outputs": [
    {
     "name": "stdout",
     "output_type": "stream",
     "text": [
      "tensor([[-3,  4,  7],\n",
      "        [ 0, -6,  5]]) \n",
      "\n",
      "Tamaño: torch.Size([2, 3])\n",
      "Num dim: 2\n",
      "\n",
      "tensor([[8, 6, 5],\n",
      "        [9, 9, 6]]) \n",
      "\n",
      "Tamaño: torch.Size([2, 3])\n",
      "Num dim: 2\n"
     ]
    }
   ],
   "source": [
    "X = torch.randint(-10, 10, (2, 3))\n",
    "Y = torch.randint(5, 10, (2, 3))\n",
    "info_tensor(X)\n",
    "print(\"\")\n",
    "info_tensor(Y)"
   ]
  },
  {
   "cell_type": "code",
   "execution_count": 31,
   "metadata": {},
   "outputs": [
    {
     "data": {
      "text/plain": [
       "tensor([[ 5, 10, 12],\n",
       "        [ 9,  3, 11]])"
      ]
     },
     "execution_count": 31,
     "metadata": {},
     "output_type": "execute_result"
    }
   ],
   "source": [
    "# Sumar componente a componente\n",
    "X + Y"
   ]
  },
  {
   "cell_type": "code",
   "execution_count": 32,
   "metadata": {},
   "outputs": [
    {
     "data": {
      "text/plain": [
       "tensor([[-24,  24,  35],\n",
       "        [  0, -54,  30]])"
      ]
     },
     "execution_count": 32,
     "metadata": {},
     "output_type": "execute_result"
    }
   ],
   "source": [
    "# Multiplicar componente a componente\n",
    "X*Y"
   ]
  },
  {
   "cell_type": "code",
   "execution_count": 33,
   "metadata": {},
   "outputs": [
    {
     "data": {
      "text/plain": [
       "tensor([[-0.3750,  0.6667,  1.4000],\n",
       "        [ 0.0000, -0.6667,  0.8333]])"
      ]
     },
     "execution_count": 33,
     "metadata": {},
     "output_type": "execute_result"
    }
   ],
   "source": [
    "X/Y"
   ]
  },
  {
   "cell_type": "code",
   "execution_count": 34,
   "metadata": {},
   "outputs": [
    {
     "data": {
      "text/plain": [
       "tensor([[     6561,      4096,     16807],\n",
       "        [        0, -10077696,     15625]])"
      ]
     },
     "execution_count": 34,
     "metadata": {},
     "output_type": "execute_result"
    }
   ],
   "source": [
    "X**Y"
   ]
  },
  {
   "cell_type": "markdown",
   "metadata": {},
   "source": [
    "<span style=\"font-size:20px\">\n",
    "\n",
    "- También podemos juntar (concatenar) tensores para formar otros nuevos."
   ]
  },
  {
   "cell_type": "code",
   "execution_count": 35,
   "metadata": {},
   "outputs": [
    {
     "name": "stdout",
     "output_type": "stream",
     "text": [
      "tensor([[ 3, -3, -2],\n",
      "        [-7,  4,  4]]) \n",
      "\n",
      "Tamaño: torch.Size([2, 3])\n",
      "Num dim: 2\n",
      "\n",
      "tensor([[ -9,  -1,   0],\n",
      "        [  5,  -5,  -2],\n",
      "        [-10, -10,   6],\n",
      "        [  6,  -2,   3]]) \n",
      "\n",
      "Tamaño: torch.Size([4, 3])\n",
      "Num dim: 2\n"
     ]
    }
   ],
   "source": [
    "X = torch.randint(-10, 10, (2, 3))\n",
    "Y = torch.randint(-10, 10, (4, 3))\n",
    "info_tensor(X)\n",
    "print(\"\")\n",
    "info_tensor(Y)"
   ]
  },
  {
   "cell_type": "code",
   "execution_count": 39,
   "metadata": {},
   "outputs": [
    {
     "data": {
      "text/plain": [
       "tensor([[  3,  -3,  -2],\n",
       "        [ -7,   4,   4],\n",
       "        [ -9,  -1,   0],\n",
       "        [  5,  -5,  -2],\n",
       "        [-10, -10,   6],\n",
       "        [  6,  -2,   3]])"
      ]
     },
     "execution_count": 39,
     "metadata": {},
     "output_type": "execute_result"
    }
   ],
   "source": [
    "# Concatenar verticalmente\n",
    "torch.vstack((X, Y))"
   ]
  },
  {
   "cell_type": "code",
   "execution_count": 38,
   "metadata": {},
   "outputs": [
    {
     "ename": "RuntimeError",
     "evalue": "Sizes of tensors must match except in dimension 1. Expected size 2 but got size 4 for tensor number 1 in the list.",
     "output_type": "error",
     "traceback": [
      "\u001b[0;31m---------------------------------------------------------------------------\u001b[0m",
      "\u001b[0;31mRuntimeError\u001b[0m                              Traceback (most recent call last)",
      "Cell \u001b[0;32mIn[38], line 2\u001b[0m\n\u001b[1;32m      1\u001b[0m \u001b[38;5;66;03m# Tenemos error porque no tienen el mismo número de filas.\u001b[39;00m\n\u001b[0;32m----> 2\u001b[0m \u001b[43mtorch\u001b[49m\u001b[38;5;241;43m.\u001b[39;49m\u001b[43mhstack\u001b[49m\u001b[43m(\u001b[49m\u001b[43m(\u001b[49m\u001b[43mX\u001b[49m\u001b[43m,\u001b[49m\u001b[43mY\u001b[49m\u001b[43m)\u001b[49m\u001b[43m)\u001b[49m\n",
      "\u001b[0;31mRuntimeError\u001b[0m: Sizes of tensors must match except in dimension 1. Expected size 2 but got size 4 for tensor number 1 in the list."
     ]
    }
   ],
   "source": [
    "# Tenemos error porque no tienen el mismo número de filas.\n",
    "torch.hstack((X,Y))"
   ]
  },
  {
   "cell_type": "code",
   "execution_count": 41,
   "metadata": {},
   "outputs": [
    {
     "data": {
      "text/plain": [
       "tensor([[  3,  -3,  -2,  -9,  -1,   0,   5,  -5,  -2],\n",
       "        [ -7,   4,   4, -10, -10,   6,   6,  -2,   3]])"
      ]
     },
     "execution_count": 41,
     "metadata": {},
     "output_type": "execute_result"
    }
   ],
   "source": [
    "# Hacemos que Y tenga el mismo número de filas que X con reshape\n",
    "Y = Y.reshape(X.shape[0], -1)\n",
    "\n",
    "# Concatenar horizontalmente\n",
    "torch.hstack((X,Y))"
   ]
  },
  {
   "cell_type": "markdown",
   "metadata": {},
   "source": [
    "<span style=\"font-size:20px\">\n",
    "\n",
    "- Comparar tensores."
   ]
  },
  {
   "cell_type": "code",
   "execution_count": 116,
   "metadata": {},
   "outputs": [
    {
     "name": "stdout",
     "output_type": "stream",
     "text": [
      "tensor([[1, 2, 3],\n",
      "        [5, 6, 7]]) \n",
      "\n",
      "Tamaño: torch.Size([2, 3])\n",
      "Num dim: 2\n",
      "\n",
      "tensor([[  4,   2, -10],\n",
      "        [  2,   6,   7]]) \n",
      "\n",
      "Tamaño: torch.Size([2, 3])\n",
      "Num dim: 2\n"
     ]
    }
   ],
   "source": [
    "X = torch.tensor([[1, 2, 3],[5, 6, 7]])\n",
    "Y = torch.tensor([[4, 2, -10], [2, 6, 7]])\n",
    "info_tensor(X)\n",
    "print(\"\")\n",
    "info_tensor(Y)"
   ]
  },
  {
   "cell_type": "code",
   "execution_count": 117,
   "metadata": {},
   "outputs": [
    {
     "data": {
      "text/plain": [
       "tensor([[False,  True, False],\n",
       "        [False,  True,  True]])"
      ]
     },
     "execution_count": 117,
     "metadata": {},
     "output_type": "execute_result"
    }
   ],
   "source": [
    "X==Y"
   ]
  },
  {
   "cell_type": "code",
   "execution_count": null,
   "metadata": {},
   "outputs": [],
   "source": [
    "X>=Y"
   ]
  },
  {
   "cell_type": "code",
   "execution_count": null,
   "metadata": {},
   "outputs": [],
   "source": [
    "X<=Y"
   ]
  },
  {
   "cell_type": "code",
   "execution_count": 118,
   "metadata": {},
   "outputs": [
    {
     "data": {
      "text/plain": [
       "tensor([[False,  True, False],\n",
       "        [False,  True,  True]])"
      ]
     },
     "execution_count": 118,
     "metadata": {},
     "output_type": "execute_result"
    }
   ],
   "source": [
    "equal_XY = (X==Y)\n",
    "equal_XY"
   ]
  },
  {
   "cell_type": "code",
   "execution_count": 119,
   "metadata": {},
   "outputs": [
    {
     "data": {
      "text/plain": [
       "tensor(3)"
      ]
     },
     "execution_count": 119,
     "metadata": {},
     "output_type": "execute_result"
    }
   ],
   "source": [
    "# Sumar todas las componentes entre sí\n",
    "equal_XY.sum()"
   ]
  },
  {
   "cell_type": "code",
   "execution_count": 122,
   "metadata": {},
   "outputs": [
    {
     "data": {
      "text/plain": [
       "tensor([0, 2, 1])"
      ]
     },
     "execution_count": 122,
     "metadata": {},
     "output_type": "execute_result"
    }
   ],
   "source": [
    "# Sumar componentes columna por columna\n",
    "equal_XY.sum(dim=0)"
   ]
  },
  {
   "cell_type": "code",
   "execution_count": 121,
   "metadata": {},
   "outputs": [
    {
     "data": {
      "text/plain": [
       "tensor([1, 2])"
      ]
     },
     "execution_count": 121,
     "metadata": {},
     "output_type": "execute_result"
    }
   ],
   "source": [
    "# Sumar componentes fila por fila\n",
    "equal_XY.sum(dim=1)"
   ]
  },
  {
   "cell_type": "markdown",
   "metadata": {},
   "source": [
    "<span style=\"font-size:20px\">\n",
    "\n",
    "- Aplicar funciones sobre las componentes de los tensores."
   ]
  },
  {
   "cell_type": "code",
   "execution_count": null,
   "metadata": {},
   "outputs": [],
   "source": [
    "X = torch.randint(-10, 10, (2, 3))\n",
    "info_tensor(X)"
   ]
  },
  {
   "cell_type": "code",
   "execution_count": null,
   "metadata": {},
   "outputs": [],
   "source": [
    "X.exp()"
   ]
  },
  {
   "cell_type": "code",
   "execution_count": null,
   "metadata": {},
   "outputs": [],
   "source": [
    "X.exp().log()"
   ]
  },
  {
   "cell_type": "code",
   "execution_count": null,
   "metadata": {},
   "outputs": [],
   "source": [
    "X.sin()"
   ]
  },
  {
   "cell_type": "code",
   "execution_count": null,
   "metadata": {},
   "outputs": [],
   "source": [
    "# Calcular la media de cada fila\n",
    "X.float().mean(dim=1)"
   ]
  },
  {
   "cell_type": "code",
   "execution_count": null,
   "metadata": {},
   "outputs": [],
   "source": [
    "# Calcular la std de cada columna\n",
    "X.float().std(dim=0)"
   ]
  },
  {
   "cell_type": "markdown",
   "metadata": {},
   "source": [
    "### Broadcasting"
   ]
  },
  {
   "cell_type": "code",
   "execution_count": 42,
   "metadata": {},
   "outputs": [
    {
     "name": "stdout",
     "output_type": "stream",
     "text": [
      "tensor([[ 1.,  5., -8.],\n",
      "        [ 6.,  8.,  2.],\n",
      "        [ 2.,  6.,  2.],\n",
      "        [-8., -1., -4.]]) \n",
      "\n",
      "Tamaño: torch.Size([4, 3])\n",
      "Num dim: 2\n",
      "\n",
      "tensor([[  3., -17.],\n",
      "        [-15.,  -9.],\n",
      "        [ -4.,   1.],\n",
      "        [  4.,  -2.],\n",
      "        [-13., -13.]]) \n",
      "\n",
      "Tamaño: torch.Size([5, 2])\n",
      "Num dim: 2\n"
     ]
    }
   ],
   "source": [
    "X = torch.randint(-10, 10, (4, 3)).float()\n",
    "Y = torch.randint(-20, 5, (5, 2)).float()\n",
    "info_tensor(X)\n",
    "print(\"\")\n",
    "info_tensor(Y)"
   ]
  },
  {
   "cell_type": "code",
   "execution_count": 43,
   "metadata": {},
   "outputs": [
    {
     "ename": "RuntimeError",
     "evalue": "The size of tensor a (3) must match the size of tensor b (2) at non-singleton dimension 1",
     "output_type": "error",
     "traceback": [
      "\u001b[0;31m---------------------------------------------------------------------------\u001b[0m",
      "\u001b[0;31mRuntimeError\u001b[0m                              Traceback (most recent call last)",
      "Cell \u001b[0;32mIn[43], line 2\u001b[0m\n\u001b[1;32m      1\u001b[0m \u001b[38;5;66;03m# No podemos hacer operaciones porque las dimensiones no coindicen.\u001b[39;00m\n\u001b[0;32m----> 2\u001b[0m \u001b[43mX\u001b[49m\u001b[43m \u001b[49m\u001b[38;5;241;43m/\u001b[39;49m\u001b[43m \u001b[49m\u001b[43mY\u001b[49m\n",
      "\u001b[0;31mRuntimeError\u001b[0m: The size of tensor a (3) must match the size of tensor b (2) at non-singleton dimension 1"
     ]
    }
   ],
   "source": [
    "# No podemos hacer operaciones porque las dimensiones no coindicen.\n",
    "X / Y"
   ]
  },
  {
   "cell_type": "markdown",
   "metadata": {},
   "source": [
    "<span style=\"font-size:20px\">\n",
    "\n",
    "- En ciertas condiciones se podrán realizar operaciones entre tensores de diferente tamaño.\n",
    "- Supón que tenemos los siguientes tensores:\n",
    "$$A=\\begin{bmatrix}1&2&3\\\\2&4&1\\end{bmatrix}\\:\\:\\:\\:\\:x=(3,2,1)$$\n",
    "- Queremos sumar $x$ en todas las filas de $A$.\n",
    "- Reglas de Broadcasting\n",
    "    - **Regla 1**: si los dos tensores difieren en el número de dimensiones, al tensor de menor número se le añade un uno en la izquierda. En nuestro ejemplo, el vector $x$, pasaría a ser una matriz fila, es decir, pasaría de tener tamaño $3$ a tamaño $1\\times 3$\n",
    "    $$x=(3,2,1)\\:\\:\\to\\:\\:x=\\begin{bmatrix}3&2&1\\end{bmatrix}$$\n",
    "\n",
    "    - **Regla 2**: Tenemos dos tensores con mismo número de dimensiones, pero con diferente tamaño. Si uno de ellos tiene un $1$ en una dimensión, entonces se expande dicho $1$ hasta que se iguale al valor que hay en el otro tensor. Como $x$ tiene tamaño $1\\times 3$, lo expandimos para que tenga tamaño $2\\times 3$.\n",
    "    $$x=\\begin{bmatrix}3&2&1\\end{bmatrix}\\:\\:\\to\\:\\:x=\\begin{bmatrix}3&2&1\\\\3&2&1\\end{bmatrix}$$\n",
    "\n",
    "    - **Regla 3**: si el tamaño sigue sin coindicir devuelve error. En nuestro ejemplo el tamaño sí conincide y, por tanto, se lleva a cabo la operación."
   ]
  },
  {
   "cell_type": "code",
   "execution_count": 44,
   "metadata": {},
   "outputs": [
    {
     "name": "stdout",
     "output_type": "stream",
     "text": [
      "tensor([ 0.2500,  4.5000, -2.0000]) \n",
      "\n",
      "Tamaño: torch.Size([3])\n",
      "Num dim: 1\n"
     ]
    }
   ],
   "source": [
    "# Calculamos media de las columnas\n",
    "mean_cols = X.mean(dim=0)\n",
    "info_tensor(mean_cols)"
   ]
  },
  {
   "cell_type": "code",
   "execution_count": 45,
   "metadata": {},
   "outputs": [
    {
     "name": "stdout",
     "output_type": "stream",
     "text": [
      "tensor([[ 1.,  5., -8.],\n",
      "        [ 6.,  8.,  2.],\n",
      "        [ 2.,  6.,  2.],\n",
      "        [-8., -1., -4.]]) \n",
      "\n",
      "Tamaño: torch.Size([4, 3])\n",
      "Num dim: 2\n"
     ]
    }
   ],
   "source": [
    "info_tensor(X)"
   ]
  },
  {
   "cell_type": "code",
   "execution_count": 57,
   "metadata": {},
   "outputs": [
    {
     "name": "stdout",
     "output_type": "stream",
     "text": [
      "tensor([[ 0.2500,  4.5000, -2.0000]]) \n",
      "\n",
      "Tamaño: torch.Size([1, 3])\n",
      "Num dim: 2\n"
     ]
    }
   ],
   "source": [
    "# Primer paso, poner un uno a la izquierda, para que el vector pase a ser una matriz fila.\n",
    "broad_mean_cols = mean_cols.reshape(1, -1)\n",
    "info_tensor(broad_mean_cols)"
   ]
  },
  {
   "cell_type": "code",
   "execution_count": 58,
   "metadata": {},
   "outputs": [
    {
     "data": {
      "text/plain": [
       "torch.Size([4, 3])"
      ]
     },
     "execution_count": 58,
     "metadata": {},
     "output_type": "execute_result"
    }
   ],
   "source": [
    "X.shape"
   ]
  },
  {
   "cell_type": "code",
   "execution_count": 59,
   "metadata": {},
   "outputs": [
    {
     "name": "stdout",
     "output_type": "stream",
     "text": [
      "tensor([[ 0.2500,  4.5000, -2.0000],\n",
      "        [ 0.2500,  4.5000, -2.0000],\n",
      "        [ 0.2500,  4.5000, -2.0000],\n",
      "        [ 0.2500,  4.5000, -2.0000]]) \n",
      "\n",
      "Tamaño: torch.Size([4, 3])\n",
      "Num dim: 2\n"
     ]
    }
   ],
   "source": [
    "broad_mean_cols = torch.vstack([broad_mean_cols]*X.shape[0])\n",
    "info_tensor(broad_mean_cols)"
   ]
  },
  {
   "cell_type": "code",
   "execution_count": 60,
   "metadata": {},
   "outputs": [
    {
     "data": {
      "text/plain": [
       "tensor([[ 0.7500,  0.5000, -6.0000],\n",
       "        [ 5.7500,  3.5000,  4.0000],\n",
       "        [ 1.7500,  1.5000,  4.0000],\n",
       "        [-8.2500, -5.5000, -2.0000]])"
      ]
     },
     "execution_count": 60,
     "metadata": {},
     "output_type": "execute_result"
    }
   ],
   "source": [
    "X - broad_mean_cols"
   ]
  },
  {
   "cell_type": "code",
   "execution_count": 61,
   "metadata": {},
   "outputs": [
    {
     "data": {
      "text/plain": [
       "tensor([[ 0.7500,  0.5000, -6.0000],\n",
       "        [ 5.7500,  3.5000,  4.0000],\n",
       "        [ 1.7500,  1.5000,  4.0000],\n",
       "        [-8.2500, -5.5000, -2.0000]])"
      ]
     },
     "execution_count": 61,
     "metadata": {},
     "output_type": "execute_result"
    }
   ],
   "source": [
    "# Todo lo que hicimos ya lo hace PyTorch de manera automática.\n",
    "X - mean_cols"
   ]
  },
  {
   "cell_type": "code",
   "execution_count": 62,
   "metadata": {},
   "outputs": [
    {
     "name": "stdout",
     "output_type": "stream",
     "text": [
      "tensor([-0.6667,  5.3333,  3.3333, -4.3333]) \n",
      "\n",
      "Tamaño: torch.Size([4])\n",
      "Num dim: 1\n"
     ]
    }
   ],
   "source": [
    "mean_rows = X.mean(dim=1)\n",
    "info_tensor(mean_rows)"
   ]
  },
  {
   "cell_type": "code",
   "execution_count": 63,
   "metadata": {},
   "outputs": [
    {
     "name": "stdout",
     "output_type": "stream",
     "text": [
      "tensor([[ 1.,  5., -8.],\n",
      "        [ 6.,  8.,  2.],\n",
      "        [ 2.,  6.,  2.],\n",
      "        [-8., -1., -4.]]) \n",
      "\n",
      "Tamaño: torch.Size([4, 3])\n",
      "Num dim: 2\n"
     ]
    }
   ],
   "source": [
    "# Para la media de los rows el Broadcasting no se va a poder aplicar.\n",
    "info_tensor(X)"
   ]
  },
  {
   "cell_type": "code",
   "execution_count": 64,
   "metadata": {},
   "outputs": [
    {
     "ename": "RuntimeError",
     "evalue": "The size of tensor a (3) must match the size of tensor b (4) at non-singleton dimension 1",
     "output_type": "error",
     "traceback": [
      "\u001b[0;31m---------------------------------------------------------------------------\u001b[0m",
      "\u001b[0;31mRuntimeError\u001b[0m                              Traceback (most recent call last)",
      "Cell \u001b[0;32mIn[64], line 2\u001b[0m\n\u001b[1;32m      1\u001b[0m \u001b[38;5;66;03m# Obtenemos error de broadcasting.\u001b[39;00m\n\u001b[0;32m----> 2\u001b[0m \u001b[43mX\u001b[49m\u001b[43m \u001b[49m\u001b[38;5;241;43m-\u001b[39;49m\u001b[43m \u001b[49m\u001b[43mmean_rows\u001b[49m\n",
      "\u001b[0;31mRuntimeError\u001b[0m: The size of tensor a (3) must match the size of tensor b (4) at non-singleton dimension 1"
     ]
    }
   ],
   "source": [
    "# Obtenemos error de broadcasting.\n",
    "X - mean_rows"
   ]
  },
  {
   "cell_type": "code",
   "execution_count": 65,
   "metadata": {},
   "outputs": [
    {
     "name": "stdout",
     "output_type": "stream",
     "text": [
      "tensor([[-0.6667],\n",
      "        [ 5.3333],\n",
      "        [ 3.3333],\n",
      "        [-4.3333]]) \n",
      "\n",
      "Tamaño: torch.Size([4, 1])\n",
      "Num dim: 2\n"
     ]
    }
   ],
   "source": [
    "# Lo solucionamos convirtiendo mean_rows en una matriz columna\n",
    "mean_rows = mean_rows.reshape(-1, 1)\n",
    "info_tensor(mean_rows)"
   ]
  },
  {
   "cell_type": "code",
   "execution_count": 66,
   "metadata": {},
   "outputs": [
    {
     "data": {
      "text/plain": [
       "tensor([[ 1.6667,  5.6667, -7.3333],\n",
       "        [ 0.6667,  2.6667, -3.3333],\n",
       "        [-1.3333,  2.6667, -1.3333],\n",
       "        [-3.6667,  3.3333,  0.3333]])"
      ]
     },
     "execution_count": 66,
     "metadata": {},
     "output_type": "execute_result"
    }
   ],
   "source": [
    "# Restamos la media de cada row en todas sus componentes.\n",
    "X - mean_rows"
   ]
  },
  {
   "cell_type": "markdown",
   "metadata": {},
   "source": [
    "### Extra"
   ]
  },
  {
   "cell_type": "markdown",
   "metadata": {},
   "source": [
    "## Data Preprocessing."
   ]
  },
  {
   "cell_type": "markdown",
   "metadata": {},
   "source": [
    "### Accediendo a los datos con pandas"
   ]
  },
  {
   "cell_type": "markdown",
   "metadata": {},
   "source": [
    "### groupby"
   ]
  },
  {
   "cell_type": "markdown",
   "metadata": {},
   "source": [
    "### Valores Atípicos y visualizaciones."
   ]
  },
  {
   "cell_type": "markdown",
   "metadata": {},
   "source": [
    "### Valores nulos"
   ]
  },
  {
   "cell_type": "markdown",
   "metadata": {},
   "source": [
    "## Linear Algebra."
   ]
  },
  {
   "cell_type": "markdown",
   "metadata": {},
   "source": [
    "### Repaso de escalares, vectores y Matrices"
   ]
  },
  {
   "cell_type": "markdown",
   "metadata": {},
   "source": [
    "### Repaso de operaciones con tensores (Reduction)"
   ]
  },
  {
   "cell_type": "markdown",
   "metadata": {},
   "source": [
    "### Dot Product and Matrix Vector Product"
   ]
  },
  {
   "cell_type": "markdown",
   "metadata": {},
   "source": [
    "### Matrix-Matrix multiplication."
   ]
  },
  {
   "cell_type": "markdown",
   "metadata": {},
   "source": [
    "### Norms"
   ]
  },
  {
   "cell_type": "markdown",
   "metadata": {},
   "source": [
    "## Calculus."
   ]
  },
  {
   "cell_type": "markdown",
   "metadata": {},
   "source": [
    "## Automatic Differentiation."
   ]
  },
  {
   "cell_type": "markdown",
   "metadata": {},
   "source": [
    "## Probability and Statistics."
   ]
  }
 ],
 "metadata": {
  "kernelspec": {
   "display_name": "Python 3",
   "language": "python",
   "name": "python3"
  },
  "language_info": {
   "codemirror_mode": {
    "name": "ipython",
    "version": 3
   },
   "file_extension": ".py",
   "mimetype": "text/x-python",
   "name": "python",
   "nbconvert_exporter": "python",
   "pygments_lexer": "ipython3",
   "version": "3.11.0"
  }
 },
 "nbformat": 4,
 "nbformat_minor": 2
}
