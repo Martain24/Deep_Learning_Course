{
 "cells": [
  {
   "cell_type": "markdown",
   "metadata": {},
   "source": [
    "## Data Manipulation\n",
    "\n",
    "<span style=\"font-size:20px\">\n",
    "\n",
    "Hay dos cosas que podemos hacer con los datos.\n",
    "- Adquirirlos y guardarlos.\n",
    "- Procesarlos usando Python."
   ]
  },
  {
   "cell_type": "markdown",
   "metadata": {},
   "source": [
    "### Entendiendo el concepto de Tensor."
   ]
  },
  {
   "cell_type": "markdown",
   "metadata": {},
   "source": [
    "<span style=\"font-size:20px\">\n",
    "\n",
    "**Definición**. Un *tensor* es una lista ordenada de números.\n",
    "\n",
    "**Ejemplo**. $x=(1,\\:0.4,\\:5)$ es un tensor de dimensión $3$, porque tiene $3$ componentes a lo largo de una única fila.\n",
    "\n",
    "Representación general de un vector: $x=(x_1,x_2,...,x_n)$. Fíjate que $x_i$ denota la componente $i$ de $x$.\n",
    "\n",
    "Se pueden tener tensores cuyos valoers estén ordenados en varias filas (**matrices**):\n",
    "$$X=\\begin{bmatrix}x_{11}&x_{12}&...&x_{1n}\\\\\n",
    "x_{21}&x_{22}&...&x_{2n}\\\\\n",
    "...&...&...&...\\\\\n",
    "x_{m1}&x_{m2}&...&x_{mn} \n",
    "\\end{bmatrix}$$\n",
    "$x_{ij}$ es la componente $j$ de la fila número $i$. \n",
    "\n",
    "La matriz tiene dimensión $m\\times n$ porque tiene $m$ filas de $n$ componentes cada una.\n",
    "\n",
    "La matriz tiene dimensión $m\\times n$ porque tiene $n$ columnas de $m$ componenetes cada una.\n",
    "\n",
    "**Observación**. Podemos tener tensores de dimensión $p\\times m\\times n$ formados por $p$ matrices de dimensión $m\\times n$.\n",
    "\n",
    "Decimos que un vector es un tensor de orden-1; una matriz es un tensor de orden-2 y un tensor de dim $p\\times m\\times n$ es de orden-3.\n",
    "\n",
    "Podemos tener tensores de dimensión $q\\times p\\times m\\times n$ y así hasta el infinito.\n",
    "\n",
    "De forma general, un tensor será de orden-$k$ si necesitamos $k$ números para especificar su dimensión."
   ]
  },
  {
   "cell_type": "code",
   "execution_count": 1,
   "metadata": {},
   "outputs": [],
   "source": [
    "# Para empezar importamos la librería PyTorch\n",
    "import torch"
   ]
  },
  {
   "cell_type": "code",
   "execution_count": 5,
   "metadata": {},
   "outputs": [
    {
     "data": {
      "text/plain": [
       "tensor([ 0,  1,  2,  3,  4,  5,  6,  7,  8,  9, 10, 11])"
      ]
     },
     "execution_count": 5,
     "metadata": {},
     "output_type": "execute_result"
    }
   ],
   "source": [
    "# Crear vector de todos los enteros entre 0 y 11.\n",
    "x = torch.arange(0, 12)    # El número final no se incluye en el tensor.\n",
    "x"
   ]
  },
  {
   "cell_type": "code",
   "execution_count": 7,
   "metadata": {},
   "outputs": [
    {
     "data": {
      "text/plain": [
       "12"
      ]
     },
     "execution_count": 7,
     "metadata": {},
     "output_type": "execute_result"
    }
   ],
   "source": [
    "# Acceder al número de componentes.\n",
    "x.numel()"
   ]
  },
  {
   "cell_type": "code",
   "execution_count": 8,
   "metadata": {},
   "outputs": [
    {
     "data": {
      "text/plain": [
       "torch.Size([12])"
      ]
     },
     "execution_count": 8,
     "metadata": {},
     "output_type": "execute_result"
    }
   ],
   "source": [
    "# Acceder a la dimensión del tensor.\n",
    "x.shape"
   ]
  },
  {
   "cell_type": "code",
   "execution_count": 9,
   "metadata": {},
   "outputs": [
    {
     "data": {
      "text/plain": [
       "1"
      ]
     },
     "execution_count": 9,
     "metadata": {},
     "output_type": "execute_result"
    }
   ],
   "source": [
    "# ¿Cuál es el orden del tensor?\n",
    "len(x.shape)"
   ]
  },
  {
   "cell_type": "code",
   "execution_count": 10,
   "metadata": {},
   "outputs": [],
   "source": [
    "def info_tensor(tensor):\n",
    "    print(f\"La dimensión del tensor es {tensor.shape}\")\n",
    "    print(f\"Es un tensor de orden {len(tensor.shape)}\")\n",
    "    print(f\"El número de componentes del tensor es {tensor.numel()}\", \"\\n\")\n",
    "    print(tensor)"
   ]
  },
  {
   "cell_type": "code",
   "execution_count": 12,
   "metadata": {},
   "outputs": [
    {
     "data": {
      "text/plain": [
       "tensor([[ 0,  1,  2,  3],\n",
       "        [ 4,  5,  6,  7],\n",
       "        [ 8,  9, 10, 11]])"
      ]
     },
     "execution_count": 12,
     "metadata": {},
     "output_type": "execute_result"
    }
   ],
   "source": [
    "# Cambiar dimensión del vector sin alterar valores\n",
    "x.reshape(3, 4)"
   ]
  },
  {
   "cell_type": "code",
   "execution_count": 13,
   "metadata": {},
   "outputs": [
    {
     "name": "stdout",
     "output_type": "stream",
     "text": [
      "La dimensión del tensor es torch.Size([3, 4])\n",
      "Es un tensor de orden 2\n",
      "El número de componentes del tensor es 12 \n",
      "\n",
      "tensor([[ 0,  1,  2,  3],\n",
      "        [ 4,  5,  6,  7],\n",
      "        [ 8,  9, 10, 11]])\n"
     ]
    }
   ],
   "source": [
    "info_tensor(x.reshape(3, 4))"
   ]
  },
  {
   "cell_type": "markdown",
   "metadata": {},
   "source": [
    "<span style=\"font-size:20px\">\n",
    "\n",
    "Una matriz de dimensión $m\\times n$ tiene exactamente $m\\cdot n$ componentes.\n",
    "\n",
    "Supón que tenemos un vector de $n$ componentes y queremos transformarlo en una matriz de $w$ filas.\n",
    "\n",
    "Entonces, necesariamente, el número de columnas de la matriz tendrá que ser de $n/w$, porque $w\\cdot n/w=n$\n",
    "\n",
    "Es decir, supón que tenemos un vector de $n$ componentes:\n",
    "- Si queremos transformarlo en una matriz de $w$ filas, necesariamente la matriz tendrá $n/w$ columnas.\n",
    "- Si queremos transformarlo en una matriz de $p$ columnas, necesariamente la matriz tendrá $n/p$ filas.\n",
    "\n",
    "Si ponemos $-1$, PyTorch calculará automáticamente el número de filas o de columnas que tiene que tener la nueva matriz."
   ]
  },
  {
   "cell_type": "code",
   "execution_count": 14,
   "metadata": {},
   "outputs": [
    {
     "data": {
      "text/plain": [
       "tensor([[ 0,  1,  2,  3],\n",
       "        [ 4,  5,  6,  7],\n",
       "        [ 8,  9, 10, 11]])"
      ]
     },
     "execution_count": 14,
     "metadata": {},
     "output_type": "execute_result"
    }
   ],
   "source": [
    "# Queremos que tenga 3 filas.\n",
    "x.reshape(3, -1)"
   ]
  },
  {
   "cell_type": "code",
   "execution_count": 16,
   "metadata": {},
   "outputs": [
    {
     "data": {
      "text/plain": [
       "tensor([[ 0,  1,  2,  3,  4,  5],\n",
       "        [ 6,  7,  8,  9, 10, 11]])"
      ]
     },
     "execution_count": 16,
     "metadata": {},
     "output_type": "execute_result"
    }
   ],
   "source": [
    "# Queremos que tenga 6 columnas\n",
    "x.reshape(-1, 6)"
   ]
  },
  {
   "cell_type": "code",
   "execution_count": 17,
   "metadata": {},
   "outputs": [
    {
     "data": {
      "text/plain": [
       "tensor([[ 0],\n",
       "        [ 1],\n",
       "        [ 2],\n",
       "        [ 3],\n",
       "        [ 4],\n",
       "        [ 5],\n",
       "        [ 6],\n",
       "        [ 7],\n",
       "        [ 8],\n",
       "        [ 9],\n",
       "        [10],\n",
       "        [11]])"
      ]
     },
     "execution_count": 17,
     "metadata": {},
     "output_type": "execute_result"
    }
   ],
   "source": [
    "# Queremos convertir el vector en una matriz columna.\n",
    "x.reshape(-1, 1)"
   ]
  },
  {
   "cell_type": "code",
   "execution_count": 18,
   "metadata": {},
   "outputs": [
    {
     "ename": "RuntimeError",
     "evalue": "shape '[5, -1]' is invalid for input of size 12",
     "output_type": "error",
     "traceback": [
      "\u001b[0;31m---------------------------------------------------------------------------\u001b[0m",
      "\u001b[0;31mRuntimeError\u001b[0m                              Traceback (most recent call last)",
      "Cell \u001b[0;32mIn[18], line 1\u001b[0m\n\u001b[0;32m----> 1\u001b[0m \u001b[43mx\u001b[49m\u001b[38;5;241;43m.\u001b[39;49m\u001b[43mreshape\u001b[49m\u001b[43m(\u001b[49m\u001b[38;5;241;43m5\u001b[39;49m\u001b[43m,\u001b[49m\u001b[43m \u001b[49m\u001b[38;5;241;43m-\u001b[39;49m\u001b[38;5;241;43m1\u001b[39;49m\u001b[43m)\u001b[49m\n",
      "\u001b[0;31mRuntimeError\u001b[0m: shape '[5, -1]' is invalid for input of size 12"
     ]
    }
   ],
   "source": [
    "# Como 5 no es múltiplo de 12 obtenemos un error\n",
    "x.reshape(5, -1)"
   ]
  },
  {
   "cell_type": "markdown",
   "metadata": {},
   "source": [
    "<span style=\"font-size:20px\">\n",
    "Otras funciones interesantes para generar tensores son las siguientes y tensores de orden-3"
   ]
  },
  {
   "cell_type": "code",
   "execution_count": 20,
   "metadata": {},
   "outputs": [
    {
     "name": "stdout",
     "output_type": "stream",
     "text": [
      "La dimensión del tensor es torch.Size([3, 2, 4])\n",
      "Es un tensor de orden 3\n",
      "El número de componentes del tensor es 24 \n",
      "\n",
      "tensor([[[0., 0., 0., 0.],\n",
      "         [0., 0., 0., 0.]],\n",
      "\n",
      "        [[0., 0., 0., 0.],\n",
      "         [0., 0., 0., 0.]],\n",
      "\n",
      "        [[0., 0., 0., 0.],\n",
      "         [0., 0., 0., 0.]]])\n"
     ]
    }
   ],
   "source": [
    "zeros = torch.zeros((3, 2, 4))\n",
    "info_tensor(zeros)"
   ]
  },
  {
   "cell_type": "code",
   "execution_count": 24,
   "metadata": {},
   "outputs": [
    {
     "name": "stdout",
     "output_type": "stream",
     "text": [
      "La dimensión del tensor es torch.Size([3, 2, 2])\n",
      "Es un tensor de orden 3\n",
      "El número de componentes del tensor es 12 \n",
      "\n",
      "tensor([[[1., 1.],\n",
      "         [1., 1.]],\n",
      "\n",
      "        [[1., 1.],\n",
      "         [1., 1.]],\n",
      "\n",
      "        [[1., 1.],\n",
      "         [1., 1.]]])\n"
     ]
    }
   ],
   "source": [
    "unos = torch.ones((3, 2, 2))\n",
    "info_tensor(unos)"
   ]
  },
  {
   "cell_type": "code",
   "execution_count": 25,
   "metadata": {},
   "outputs": [
    {
     "name": "stdout",
     "output_type": "stream",
     "text": [
      "La dimensión del tensor es torch.Size([2, 3, 4])\n",
      "Es un tensor de orden 3\n",
      "El número de componentes del tensor es 24 \n",
      "\n",
      "tensor([[[ 1.1077e+00, -4.2394e-01,  5.0718e-01,  1.8594e-01],\n",
      "         [ 1.5160e-01,  3.6097e-02, -1.8149e-01,  6.4332e-01],\n",
      "         [ 1.2059e+00, -3.4219e-01,  8.5504e-01,  5.4620e-01]],\n",
      "\n",
      "        [[ 2.3287e-01, -1.3876e-03, -5.8777e-01, -5.7935e-01],\n",
      "         [ 6.4899e-01, -1.8196e+00,  1.4922e+00, -1.0279e+00],\n",
      "         [ 9.9759e-02,  3.1792e-04, -4.1189e-01,  1.0259e+00]]])\n"
     ]
    }
   ],
   "source": [
    "# Números aleatorios tomados de la distribución normal con media=0 y std=1\n",
    "normal_random = torch.randn(2, 3, 4)\n",
    "info_tensor(normal_random)"
   ]
  },
  {
   "cell_type": "code",
   "execution_count": 27,
   "metadata": {},
   "outputs": [
    {
     "name": "stdout",
     "output_type": "stream",
     "text": [
      "La dimensión del tensor es torch.Size([5, 4])\n",
      "Es un tensor de orden 2\n",
      "El número de componentes del tensor es 20 \n",
      "\n",
      "tensor([[ -8,  -6,  -7,   0],\n",
      "        [ -2,   5,  -9,   1],\n",
      "        [ -5,   8,   9,   3],\n",
      "        [-10,  -1,  -6,  -1],\n",
      "        [  1,   7,   1, -10]])\n"
     ]
    }
   ],
   "source": [
    "# Números aleatorios entre dos enteros que especifiquemos\n",
    "int_random = torch.randint(-10, 10, (5, 4))\n",
    "info_tensor(int_random)"
   ]
  },
  {
   "cell_type": "code",
   "execution_count": 29,
   "metadata": {},
   "outputs": [
    {
     "data": {
      "text/plain": [
       "tensor([[2, 1, 4, 3],\n",
       "        [1, 2, 3, 4],\n",
       "        [4, 3, 2, 1]])"
      ]
     },
     "execution_count": 29,
     "metadata": {},
     "output_type": "execute_result"
    }
   ],
   "source": [
    "# Podemos crear un tensor \"a mano\" pasandole una lista de Python\n",
    "torch.tensor([[2, 1, 4, 3], [1, 2, 3, 4], [4, 3, 2, 1]])"
   ]
  },
  {
   "cell_type": "markdown",
   "metadata": {},
   "source": [
    "### Indexing and Slicing\n",
    "\n",
    "<span style=\"font-size:20px\">\n",
    "\n",
    "- Voy a suponer que ya sabes como acceder a elementos de listas de Python a través de sus indices."
   ]
  },
  {
   "cell_type": "code",
   "execution_count": 31,
   "metadata": {},
   "outputs": [
    {
     "name": "stdout",
     "output_type": "stream",
     "text": [
      "La dimensión del tensor es torch.Size([4, 5])\n",
      "Es un tensor de orden 2\n",
      "El número de componentes del tensor es 20 \n",
      "\n",
      "tensor([[ -7, -13,   4,   6,  14],\n",
      "        [  3,   5,   5,  17,  -2],\n",
      "        [ -9, -16,   5,  -3, -19],\n",
      "        [-13,  16,   4,  -8, -11]])\n"
     ]
    }
   ],
   "source": [
    "X = torch.randint(-20, 20, (4, 5))\n",
    "info_tensor(X)"
   ]
  },
  {
   "cell_type": "code",
   "execution_count": 48,
   "metadata": {},
   "outputs": [
    {
     "name": "stdout",
     "output_type": "stream",
     "text": [
      "Primera fila: tensor([ -7, -13,   4,   6,  14])\n",
      "Última fila: tensor([ 3,  5,  5, 17, -2])\n"
     ]
    }
   ],
   "source": [
    "# Acceder a la primera y última fila.\n",
    "print(f\"Primera fila: {X[0]}\")\n",
    "print(f\"Última fila: {X[1]}\")"
   ]
  },
  {
   "cell_type": "code",
   "execution_count": 58,
   "metadata": {},
   "outputs": [
    {
     "data": {
      "text/plain": [
       "tensor(16)"
      ]
     },
     "execution_count": 58,
     "metadata": {},
     "output_type": "execute_result"
    }
   ],
   "source": [
    "# Acceder al segundo elemento de la primera fila\n",
    "fila = 3\n",
    "col = 1\n",
    "X[fila, col]"
   ]
  },
  {
   "cell_type": "code",
   "execution_count": 34,
   "metadata": {},
   "outputs": [
    {
     "data": {
      "text/plain": [
       "tensor([[ -9, -16,   5,  -3, -19],\n",
       "        [-13,  16,   4,  -8, -11]])"
      ]
     },
     "execution_count": 34,
     "metadata": {},
     "output_type": "execute_result"
    }
   ],
   "source": [
    "# Acceder a las dos últimas filas\n",
    "X[-2:]"
   ]
  },
  {
   "cell_type": "code",
   "execution_count": 36,
   "metadata": {},
   "outputs": [
    {
     "data": {
      "text/plain": [
       "tensor([[ -9, -16],\n",
       "        [-13,  16]])"
      ]
     },
     "execution_count": 36,
     "metadata": {},
     "output_type": "execute_result"
    }
   ],
   "source": [
    "# Acceder a las 2 primeras columnas de las 2 últimas filas\n",
    "X[-2:, 0:2]"
   ]
  },
  {
   "cell_type": "code",
   "execution_count": 38,
   "metadata": {},
   "outputs": [
    {
     "name": "stdout",
     "output_type": "stream",
     "text": [
      "La dimensión del tensor es torch.Size([3, 4, 5])\n",
      "Es un tensor de orden 3\n",
      "El número de componentes del tensor es 60 \n",
      "\n",
      "tensor([[[ 18,  -4,  18,   9, -16],\n",
      "         [ -4,  -6,  19,   4,  10],\n",
      "         [ -4,   8,  14,  18,   6],\n",
      "         [-17,   6,  -5,  -8,  -5]],\n",
      "\n",
      "        [[  6,   5,  -8,   6, -10],\n",
      "         [ -1, -10,   4,  10,  -5],\n",
      "         [  3, -17,  -8,  12,  11],\n",
      "         [ 14,  13,   7,  -7,   3]],\n",
      "\n",
      "        [[-11,  -4,  17,  15,   3],\n",
      "         [  8,  -1,   0, -15,   9],\n",
      "         [ -6,   6,  -2,  14,   2],\n",
      "         [ 11,   0,  16,  14, -19]]])\n"
     ]
    }
   ],
   "source": [
    "Y = torch.randint(-20, 20, (3, 4, 5))\n",
    "info_tensor(Y)"
   ]
  },
  {
   "cell_type": "code",
   "execution_count": 39,
   "metadata": {},
   "outputs": [
    {
     "data": {
      "text/plain": [
       "tensor([[ 18,  -4,  18,   9, -16],\n",
       "        [ -4,  -6,  19,   4,  10],\n",
       "        [ -4,   8,  14,  18,   6],\n",
       "        [-17,   6,  -5,  -8,  -5]])"
      ]
     },
     "execution_count": 39,
     "metadata": {},
     "output_type": "execute_result"
    }
   ],
   "source": [
    "# Acceder a la primera matriz\n",
    "Y[0]"
   ]
  },
  {
   "cell_type": "code",
   "execution_count": 40,
   "metadata": {},
   "outputs": [
    {
     "data": {
      "text/plain": [
       "tensor([[ 18,  -4,  18,   9, -16],\n",
       "        [ -4,  -6,  19,   4,  10]])"
      ]
     },
     "execution_count": 40,
     "metadata": {},
     "output_type": "execute_result"
    }
   ],
   "source": [
    "# Acceder a las dos primeras filas de la primera matriz \n",
    "Y[0, 0:2]"
   ]
  },
  {
   "cell_type": "code",
   "execution_count": 42,
   "metadata": {},
   "outputs": [
    {
     "data": {
      "text/plain": [
       "tensor([[  9, -16],\n",
       "        [  4,  10]])"
      ]
     },
     "execution_count": 42,
     "metadata": {},
     "output_type": "execute_result"
    }
   ],
   "source": [
    "# Acceder a las dos últimas columnas de la matriz anterior.\n",
    "Y[0, 0:2, -2:]"
   ]
  },
  {
   "cell_type": "code",
   "execution_count": 44,
   "metadata": {},
   "outputs": [
    {
     "data": {
      "text/plain": [
       "tensor([[[  6,   5,  -8,   6, -10],\n",
       "         [ -1, -10,   4,  10,  -5],\n",
       "         [  3, -17,  -8,  12,  11],\n",
       "         [ 14,  13,   7,  -7,   3]],\n",
       "\n",
       "        [[-11,  -4,  17,  15,   3],\n",
       "         [  8,  -1,   0, -15,   9],\n",
       "         [ -6,   6,  -2,  14,   2],\n",
       "         [ 11,   0,  16,  14, -19]]])"
      ]
     },
     "execution_count": 44,
     "metadata": {},
     "output_type": "execute_result"
    }
   ],
   "source": [
    "# Acceder a las dos últimas matrices\n",
    "Y[1:]"
   ]
  },
  {
   "cell_type": "code",
   "execution_count": 45,
   "metadata": {},
   "outputs": [
    {
     "data": {
      "text/plain": [
       "tensor([[[  6,   5,  -8,   6, -10],\n",
       "         [ -1, -10,   4,  10,  -5]],\n",
       "\n",
       "        [[-11,  -4,  17,  15,   3],\n",
       "         [  8,  -1,   0, -15,   9]]])"
      ]
     },
     "execution_count": 45,
     "metadata": {},
     "output_type": "execute_result"
    }
   ],
   "source": [
    "# Acceder a las dos primeras filas de las dos últimas matrices\n",
    "Y[1:, 0:2]"
   ]
  },
  {
   "cell_type": "code",
   "execution_count": 46,
   "metadata": {},
   "outputs": [
    {
     "data": {
      "text/plain": [
       "tensor([[[ -8,   6, -10],\n",
       "         [  4,  10,  -5]],\n",
       "\n",
       "        [[ 17,  15,   3],\n",
       "         [  0, -15,   9]]])"
      ]
     },
     "execution_count": 46,
     "metadata": {},
     "output_type": "execute_result"
    }
   ],
   "source": [
    "# Acceder a las 3 últimas columnas de las matrices anteriores.\n",
    "Y[1:, 0:2, -3:]"
   ]
  },
  {
   "cell_type": "markdown",
   "metadata": {},
   "source": [
    "<span style=\"font-size:20px\">\n",
    "\n",
    "- Lo mejor que puedes hacer para acostumbrarte a manejar los índices es practicar y practicar.\n"
   ]
  },
  {
   "cell_type": "markdown",
   "metadata": {},
   "source": [
    "### Operaciones con Tensores.\n",
    "\n",
    "<span style=\"font-size:20px\">\n",
    "\n",
    "- Los tensores de PyTorch se pueden manipular de forma sencilla con operaciones y funciones matemáticas."
   ]
  },
  {
   "cell_type": "code",
   "execution_count": 66,
   "metadata": {},
   "outputs": [
    {
     "name": "stdout",
     "output_type": "stream",
     "text": [
      "La dimensión del tensor es torch.Size([2, 3])\n",
      "Es un tensor de orden 2\n",
      "El número de componentes del tensor es 6 \n",
      "\n",
      "tensor([[ -8,   3,   4],\n",
      "        [-10,  -1,   5]])\n",
      "\n",
      "La dimensión del tensor es torch.Size([2, 3])\n",
      "Es un tensor de orden 2\n",
      "El número de componentes del tensor es 6 \n",
      "\n",
      "tensor([[8, 9, 9],\n",
      "        [7, 6, 5]])\n"
     ]
    }
   ],
   "source": [
    "X = torch.randint(-10, 10, (2, 3))\n",
    "Y = torch.randint(5, 10, (2, 3))\n",
    "info_tensor(X)\n",
    "print(\"\")\n",
    "info_tensor(Y)"
   ]
  },
  {
   "cell_type": "code",
   "execution_count": 62,
   "metadata": {},
   "outputs": [
    {
     "data": {
      "text/plain": [
       "tensor([[  0, -11,  -2],\n",
       "        [ -1,   6,  -7]])"
      ]
     },
     "execution_count": 62,
     "metadata": {},
     "output_type": "execute_result"
    }
   ],
   "source": [
    "# Sumar componenete a componente\n",
    "X + Y"
   ]
  },
  {
   "cell_type": "code",
   "execution_count": 63,
   "metadata": {},
   "outputs": [
    {
     "data": {
      "text/plain": [
       "tensor([[-36,  10, -80],\n",
       "        [-20,  -7,  10]])"
      ]
     },
     "execution_count": 63,
     "metadata": {},
     "output_type": "execute_result"
    }
   ],
   "source": [
    "# Multiplicar componente a componente\n",
    "X*Y"
   ]
  },
  {
   "cell_type": "code",
   "execution_count": 64,
   "metadata": {},
   "outputs": [
    {
     "data": {
      "text/plain": [
       "tensor([[-1.0000, 10.0000, -0.8000],\n",
       "        [-1.2500, -0.1429,  0.4000]])"
      ]
     },
     "execution_count": 64,
     "metadata": {},
     "output_type": "execute_result"
    }
   ],
   "source": [
    "X/Y"
   ]
  },
  {
   "cell_type": "code",
   "execution_count": 67,
   "metadata": {},
   "outputs": [
    {
     "data": {
      "text/plain": [
       "tensor([[ 16777216,     19683,    262144],\n",
       "        [-10000000,         1,      3125]])"
      ]
     },
     "execution_count": 67,
     "metadata": {},
     "output_type": "execute_result"
    }
   ],
   "source": [
    "X**Y"
   ]
  },
  {
   "cell_type": "markdown",
   "metadata": {},
   "source": [
    "<span style=\"font-size:20px\">\n",
    "\n",
    "- También podemos juntar (concatenar) tensores para formar otros nuevos."
   ]
  },
  {
   "cell_type": "code",
   "execution_count": 82,
   "metadata": {},
   "outputs": [
    {
     "name": "stdout",
     "output_type": "stream",
     "text": [
      "La dimensión del tensor es torch.Size([2, 3])\n",
      "Es un tensor de orden 2\n",
      "El número de componentes del tensor es 6 \n",
      "\n",
      "tensor([[-10,  -3,  -2],\n",
      "        [  6,   1, -10]])\n",
      "\n",
      "La dimensión del tensor es torch.Size([4, 3])\n",
      "Es un tensor de orden 2\n",
      "El número de componentes del tensor es 12 \n",
      "\n",
      "tensor([[-5,  0, -4],\n",
      "        [ 5, -7,  1],\n",
      "        [ 4, -6,  9],\n",
      "        [-1, -9,  6]])\n"
     ]
    }
   ],
   "source": [
    "X = torch.randint(-10, 10, (2, 3))\n",
    "Y = torch.randint(-10, 10, (4, 3))\n",
    "info_tensor(X)\n",
    "print(\"\")\n",
    "info_tensor(Y)"
   ]
  },
  {
   "cell_type": "code",
   "execution_count": 83,
   "metadata": {},
   "outputs": [
    {
     "data": {
      "text/plain": [
       "tensor([[-10,  -3,  -2],\n",
       "        [  6,   1, -10],\n",
       "        [ -5,   0,  -4],\n",
       "        [  5,  -7,   1],\n",
       "        [  4,  -6,   9],\n",
       "        [ -1,  -9,   6]])"
      ]
     },
     "execution_count": 83,
     "metadata": {},
     "output_type": "execute_result"
    }
   ],
   "source": [
    "# Con dim=0 añadimos los valores a lo largo de las columnas.\n",
    "torch.cat((X, Y), dim=0)"
   ]
  },
  {
   "cell_type": "code",
   "execution_count": 84,
   "metadata": {},
   "outputs": [
    {
     "ename": "RuntimeError",
     "evalue": "Sizes of tensors must match except in dimension 1. Expected size 2 but got size 4 for tensor number 1 in the list.",
     "output_type": "error",
     "traceback": [
      "\u001b[0;31m---------------------------------------------------------------------------\u001b[0m",
      "\u001b[0;31mRuntimeError\u001b[0m                              Traceback (most recent call last)",
      "Cell \u001b[0;32mIn[84], line 2\u001b[0m\n\u001b[1;32m      1\u001b[0m \u001b[38;5;66;03m# Tenemos error porque no tienen el mismo número de filas.\u001b[39;00m\n\u001b[0;32m----> 2\u001b[0m \u001b[43mtorch\u001b[49m\u001b[38;5;241;43m.\u001b[39;49m\u001b[43mcat\u001b[49m\u001b[43m(\u001b[49m\u001b[43m(\u001b[49m\u001b[43mX\u001b[49m\u001b[43m,\u001b[49m\u001b[43mY\u001b[49m\u001b[43m)\u001b[49m\u001b[43m,\u001b[49m\u001b[43m \u001b[49m\u001b[43mdim\u001b[49m\u001b[38;5;241;43m=\u001b[39;49m\u001b[38;5;241;43m1\u001b[39;49m\u001b[43m)\u001b[49m\n",
      "\u001b[0;31mRuntimeError\u001b[0m: Sizes of tensors must match except in dimension 1. Expected size 2 but got size 4 for tensor number 1 in the list."
     ]
    }
   ],
   "source": [
    "# Tenemos error porque no tienen el mismo número de filas.\n",
    "torch.cat((X,Y), dim=1)"
   ]
  },
  {
   "cell_type": "code",
   "execution_count": 85,
   "metadata": {},
   "outputs": [
    {
     "data": {
      "text/plain": [
       "tensor([[-10,  -3,  -2,  -5,   0,  -4,   5,  -7,   1],\n",
       "        [  6,   1, -10,   4,  -6,   9,  -1,  -9,   6]])"
      ]
     },
     "execution_count": 85,
     "metadata": {},
     "output_type": "execute_result"
    }
   ],
   "source": [
    "# Hacemos que Y tenga el mismo número de filas que X con reshape\n",
    "Y = Y.reshape(X.shape[0], -1)\n",
    "\n",
    "# Concatenar por filas\n",
    "torch.cat((X,Y), dim=1)"
   ]
  },
  {
   "cell_type": "markdown",
   "metadata": {},
   "source": [
    "<span style=\"font-size:20px\">\n",
    "\n",
    "- Comparar tensores."
   ]
  },
  {
   "cell_type": "code",
   "execution_count": 91,
   "metadata": {},
   "outputs": [
    {
     "name": "stdout",
     "output_type": "stream",
     "text": [
      "La dimensión del tensor es torch.Size([2, 3])\n",
      "Es un tensor de orden 2\n",
      "El número de componentes del tensor es 6 \n",
      "\n",
      "tensor([[1, 2, 3],\n",
      "        [5, 6, 7]])\n",
      "\n",
      "La dimensión del tensor es torch.Size([2, 3])\n",
      "Es un tensor de orden 2\n",
      "El número de componentes del tensor es 6 \n",
      "\n",
      "tensor([[  4,   2, -10],\n",
      "        [  2,   6,   7]])\n"
     ]
    }
   ],
   "source": [
    "X = torch.tensor([[1, 2, 3],[5, 6, 7]])\n",
    "Y = torch.tensor([[4, 2, -10], [2, 6, 7]])\n",
    "info_tensor(X)\n",
    "print(\"\")\n",
    "info_tensor(Y)"
   ]
  },
  {
   "cell_type": "code",
   "execution_count": 92,
   "metadata": {},
   "outputs": [
    {
     "data": {
      "text/plain": [
       "tensor([[False,  True, False],\n",
       "        [False,  True,  True]])"
      ]
     },
     "execution_count": 92,
     "metadata": {},
     "output_type": "execute_result"
    }
   ],
   "source": [
    "X==Y"
   ]
  },
  {
   "cell_type": "code",
   "execution_count": 93,
   "metadata": {},
   "outputs": [
    {
     "data": {
      "text/plain": [
       "tensor([[False,  True,  True],\n",
       "        [ True,  True,  True]])"
      ]
     },
     "execution_count": 93,
     "metadata": {},
     "output_type": "execute_result"
    }
   ],
   "source": [
    "X>=Y"
   ]
  },
  {
   "cell_type": "code",
   "execution_count": 94,
   "metadata": {},
   "outputs": [
    {
     "data": {
      "text/plain": [
       "tensor([[ True,  True, False],\n",
       "        [False,  True,  True]])"
      ]
     },
     "execution_count": 94,
     "metadata": {},
     "output_type": "execute_result"
    }
   ],
   "source": [
    "X<=Y"
   ]
  },
  {
   "cell_type": "code",
   "execution_count": 98,
   "metadata": {},
   "outputs": [
    {
     "data": {
      "text/plain": [
       "tensor([[False,  True, False],\n",
       "        [False,  True,  True]])"
      ]
     },
     "execution_count": 98,
     "metadata": {},
     "output_type": "execute_result"
    }
   ],
   "source": [
    "equal_XY = (X==Y)\n",
    "equal_XY"
   ]
  },
  {
   "cell_type": "code",
   "execution_count": 99,
   "metadata": {},
   "outputs": [
    {
     "data": {
      "text/plain": [
       "tensor(3)"
      ]
     },
     "execution_count": 99,
     "metadata": {},
     "output_type": "execute_result"
    }
   ],
   "source": [
    "# Sumar todas las componentes entre sí\n",
    "equal_XY.sum()"
   ]
  },
  {
   "cell_type": "code",
   "execution_count": 96,
   "metadata": {},
   "outputs": [
    {
     "data": {
      "text/plain": [
       "tensor([0, 2, 1])"
      ]
     },
     "execution_count": 96,
     "metadata": {},
     "output_type": "execute_result"
    }
   ],
   "source": [
    "# Sumar componentes columna por columna\n",
    "equal_XY.sum(dim=0)"
   ]
  },
  {
   "cell_type": "code",
   "execution_count": 97,
   "metadata": {},
   "outputs": [
    {
     "data": {
      "text/plain": [
       "tensor([1, 2])"
      ]
     },
     "execution_count": 97,
     "metadata": {},
     "output_type": "execute_result"
    }
   ],
   "source": [
    "# Sumar componenetes fila por fila\n",
    "equal_XY.sum(dim=1)"
   ]
  },
  {
   "cell_type": "markdown",
   "metadata": {},
   "source": [
    "<span style=\"font-size:20px\">\n",
    "\n",
    "- Aplicar funciones sobre las componentes de los tensores."
   ]
  },
  {
   "cell_type": "code",
   "execution_count": 113,
   "metadata": {},
   "outputs": [
    {
     "name": "stdout",
     "output_type": "stream",
     "text": [
      "La dimensión del tensor es torch.Size([2, 3])\n",
      "Es un tensor de orden 2\n",
      "El número de componentes del tensor es 6 \n",
      "\n",
      "tensor([[ -1, -10,  -1],\n",
      "        [  9,  -3,   4]])\n"
     ]
    }
   ],
   "source": [
    "X = torch.randint(-10, 10, (2, 3))\n",
    "info_tensor(X)"
   ]
  },
  {
   "cell_type": "code",
   "execution_count": 114,
   "metadata": {},
   "outputs": [
    {
     "data": {
      "text/plain": [
       "tensor([[3.6788e-01, 4.5400e-05, 3.6788e-01],\n",
       "        [8.1031e+03, 4.9787e-02, 5.4598e+01]])"
      ]
     },
     "execution_count": 114,
     "metadata": {},
     "output_type": "execute_result"
    }
   ],
   "source": [
    "X.exp()"
   ]
  },
  {
   "cell_type": "code",
   "execution_count": 116,
   "metadata": {},
   "outputs": [
    {
     "data": {
      "text/plain": [
       "tensor([[ -1., -10.,  -1.],\n",
       "        [  9.,  -3.,   4.]])"
      ]
     },
     "execution_count": 116,
     "metadata": {},
     "output_type": "execute_result"
    }
   ],
   "source": [
    "X.exp().log()"
   ]
  },
  {
   "cell_type": "code",
   "execution_count": 117,
   "metadata": {},
   "outputs": [
    {
     "data": {
      "text/plain": [
       "tensor([[-0.8415,  0.5440, -0.8415],\n",
       "        [ 0.4121, -0.1411, -0.7568]])"
      ]
     },
     "execution_count": 117,
     "metadata": {},
     "output_type": "execute_result"
    }
   ],
   "source": [
    "X.sin()"
   ]
  },
  {
   "cell_type": "code",
   "execution_count": 120,
   "metadata": {},
   "outputs": [
    {
     "data": {
      "text/plain": [
       "tensor([-4.0000,  3.3333])"
      ]
     },
     "execution_count": 120,
     "metadata": {},
     "output_type": "execute_result"
    }
   ],
   "source": [
    "# Calcular la media de cada fila\n",
    "X.float().mean(dim=1)"
   ]
  },
  {
   "cell_type": "code",
   "execution_count": 122,
   "metadata": {},
   "outputs": [
    {
     "data": {
      "text/plain": [
       "tensor([7.0711, 4.9497, 3.5355])"
      ]
     },
     "execution_count": 122,
     "metadata": {},
     "output_type": "execute_result"
    }
   ],
   "source": [
    "# Calcular la std de cada columna\n",
    "X.float().std(dim=0)"
   ]
  },
  {
   "cell_type": "markdown",
   "metadata": {},
   "source": [
    "### Broadcasting"
   ]
  },
  {
   "cell_type": "markdown",
   "metadata": {},
   "source": [
    "### Extra"
   ]
  },
  {
   "cell_type": "markdown",
   "metadata": {},
   "source": [
    "## Data Preprocessing."
   ]
  },
  {
   "cell_type": "markdown",
   "metadata": {},
   "source": [
    "### Accediendo a los datos con pandas"
   ]
  },
  {
   "cell_type": "markdown",
   "metadata": {},
   "source": [
    "### groupby"
   ]
  },
  {
   "cell_type": "markdown",
   "metadata": {},
   "source": [
    "### Valores Atípicos y visualizaciones."
   ]
  },
  {
   "cell_type": "markdown",
   "metadata": {},
   "source": [
    "### Valores nulos"
   ]
  },
  {
   "cell_type": "markdown",
   "metadata": {},
   "source": [
    "## Linear Algebra."
   ]
  },
  {
   "cell_type": "markdown",
   "metadata": {},
   "source": [
    "### Repaso de escalares, vectores y Matrices"
   ]
  },
  {
   "cell_type": "markdown",
   "metadata": {},
   "source": [
    "### Repaso de operaciones con tensores (Reduction)"
   ]
  },
  {
   "cell_type": "markdown",
   "metadata": {},
   "source": [
    "### Dot Product and Matrix Vector Product"
   ]
  },
  {
   "cell_type": "markdown",
   "metadata": {},
   "source": [
    "### Matrix-Matrix multiplication."
   ]
  },
  {
   "cell_type": "markdown",
   "metadata": {},
   "source": [
    "### Norms"
   ]
  },
  {
   "cell_type": "markdown",
   "metadata": {},
   "source": [
    "## Calculus."
   ]
  },
  {
   "cell_type": "markdown",
   "metadata": {},
   "source": [
    "## Automatic Differentiation."
   ]
  },
  {
   "cell_type": "markdown",
   "metadata": {},
   "source": [
    "## Probability and Statistics."
   ]
  }
 ],
 "metadata": {
  "kernelspec": {
   "display_name": "Python 3",
   "language": "python",
   "name": "python3"
  },
  "language_info": {
   "codemirror_mode": {
    "name": "ipython",
    "version": 3
   },
   "file_extension": ".py",
   "mimetype": "text/x-python",
   "name": "python",
   "nbconvert_exporter": "python",
   "pygments_lexer": "ipython3",
   "version": "3.11.0"
  }
 },
 "nbformat": 4,
 "nbformat_minor": 2
}
