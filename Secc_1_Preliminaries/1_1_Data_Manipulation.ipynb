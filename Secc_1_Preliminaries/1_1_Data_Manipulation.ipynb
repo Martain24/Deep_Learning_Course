{
 "cells": [
  {
   "cell_type": "markdown",
   "metadata": {},
   "source": [
    "# Sección 1.1 Introducción a PyTorch"
   ]
  },
  {
   "cell_type": "markdown",
   "metadata": {},
   "source": [
    "## 1.1.1 Entendiendo qué es un tensor.\n",
    "\n",
    "<span style=\"font-size: 20px\">\n",
    "\n",
    "- ¿Qué es un tensor?\n",
    "\n",
    "- ¿Qué es la dimensión de un tensor?\n",
    "\n",
    "- ¿Qué es un tensor de orden-$k$?\n",
    "\n",
    "- ¿Cómo generamos tensores usando PyTorch?\n",
    "\n",
    "</span>"
   ]
  },
  {
   "cell_type": "code",
   "execution_count": 1,
   "metadata": {},
   "outputs": [],
   "source": [
    "# Importar torch\n",
    "import torch"
   ]
  },
  {
   "cell_type": "markdown",
   "metadata": {},
   "source": [
    "<span style=\"font-size: 20px\">\n",
    "\n",
    "- Un *tensor* es una lista ordenada de valores numéricos.\n",
    "\n",
    "- $x=(1, \\:0.4, \\:5)$ es un tensor cuyos valores numéricos están ordenados a lo largo de una única fila.\n",
    "\n",
    "- Denotaremos un vector de dimensión $n$ por $x=(x_1,x_2,...,x_n)$ y diremos que $x_j$ es la componente número $j$ del vector $x$\n",
    "\n",
    "- Podemos tener tensores cuyos valores estén ordenados en varias filas (matrices)\n",
    "$$X=\\begin{bmatrix}x_{11}&x_{12}&...&x_{1n}\\\\\n",
    "x_{21}&x_{22}&...&x_{2n}\\\\\n",
    "...&...&...&...\\\\\n",
    "x_{m1}&x_{m2}&...&x_{mn} \n",
    "\\end{bmatrix}$$\n",
    "\n",
    "- $x_{ij}$ es la componente $j$ de la fila número $i$.\n",
    "\n",
    "- La matriz tiene dimensión $m\\times n$, donde $m$ es el número de filas y $n$ es la dimensión de cada fila.\n",
    "\n",
    "- La matriz tiene dimensión $m\\times n$, donde $n$ es el número de columnas y $m$ es la dimensión de cada columna.\n",
    "\n",
    "- Un vector $x=(x_1,x_2,...,x_n)$ se puede pensar como una matriz de dimensión $1\\times n$.\n",
    "\n",
    "- Incluso podemos tener tensores de dimensión $m\\times n\\times p$ formados por $m$ matrices de dimensión $n\\times p$\n",
    "\n",
    "- Un vector es un tensor de orden-1; una matriz es un tensor de orden-2; un tensor de dim $m\\times n\\times p$ es de orden-3\n",
    "\n",
    "- Podemos tener un tensor de dimensión $m\\times n\\times p\\times q$, es decir, de orden-4.\n",
    "\n",
    "- De forma general un tensor será de orden-$k$ en función de cuantos números necesitamos para especificar su dimensión.\n",
    "</span>"
   ]
  },
  {
   "cell_type": "code",
   "execution_count": 7,
   "metadata": {},
   "outputs": [
    {
     "data": {
      "text/plain": [
       "tensor([ 0,  1,  2,  3,  4,  5,  6,  7,  8,  9, 10, 11])"
      ]
     },
     "execution_count": 7,
     "metadata": {},
     "output_type": "execute_result"
    }
   ],
   "source": [
    "# Vector de enteros en el rango de valores especificado\n",
    "x = torch.arange(0, 12)\n",
    "x"
   ]
  },
  {
   "cell_type": "code",
   "execution_count": 8,
   "metadata": {},
   "outputs": [
    {
     "data": {
      "text/plain": [
       "12"
      ]
     },
     "execution_count": 8,
     "metadata": {},
     "output_type": "execute_result"
    }
   ],
   "source": [
    "# ¿Cuantas componentes tiene el tensor?\n",
    "x.numel()"
   ]
  },
  {
   "cell_type": "code",
   "execution_count": 9,
   "metadata": {},
   "outputs": [
    {
     "name": "stdout",
     "output_type": "stream",
     "text": [
      "Dimensión del tensor: torch.Size([12])\n",
      "Orden del tensor: 1\n"
     ]
    }
   ],
   "source": [
    "# La shape es la dimensión del tensor.\n",
    "print(f\"Dimensión del tensor: {x.shape}\")\n",
    "\n",
    "# La longitud de la dimensión es el orden del tensor.\n",
    "print(f\"Orden del tensor: {len(x.shape)}\")"
   ]
  },
  {
   "cell_type": "code",
   "execution_count": 10,
   "metadata": {},
   "outputs": [
    {
     "name": "stdout",
     "output_type": "stream",
     "text": [
      "La dimensión del tensor es torch.Size([3, 4])\n",
      "X es un tensor de orden 2\n",
      "El número de componentes de X es 12\n"
     ]
    },
    {
     "data": {
      "text/plain": [
       "tensor([[ 0,  1,  2,  3],\n",
       "        [ 4,  5,  6,  7],\n",
       "        [ 8,  9, 10, 11]])"
      ]
     },
     "execution_count": 10,
     "metadata": {},
     "output_type": "execute_result"
    }
   ],
   "source": [
    "# Cambiar shape del vector sin alterar valores numéricos\n",
    "X = x.reshape(3, 4)\n",
    "\n",
    "# Imprimir información \n",
    "print(f\"La dimensión del tensor es {X.shape}\")\n",
    "print(f\"X es un tensor de orden {len(X.shape)}\")\n",
    "print(f\"El número de componentes de X es {X.numel()}\")\n",
    "X"
   ]
  },
  {
   "cell_type": "code",
   "execution_count": 11,
   "metadata": {},
   "outputs": [],
   "source": [
    "def info_tensor(tensor):\n",
    "    print(f\"La dimensión del tensor es {tensor.shape}\")\n",
    "    print(f\"Es un tensor de orden {len(tensor.shape)}\")\n",
    "    print(f\"El número de componentes del tensor es {tensor.numel()}\", \"\\n\")\n",
    "    print(tensor)"
   ]
  },
  {
   "cell_type": "markdown",
   "metadata": {},
   "source": [
    "<span style=\"font-size: 20px\">\n",
    "\n",
    "- Especificar los dos números en reshape es redundante.\n",
    "\n",
    "- Supón que tenemos un vector de dimensión igual a $n$ y queremos hacer reshape para que tenga dimensión $w\\times h$\n",
    "\n",
    "- Si $h$ ya sabemos que número es entonces $w=n/h$ y viceversa, si $w$ ya lo conocemos entonces $h=n/w$.\n",
    "\n",
    "- Para inferir de manera automática un número del reshape, podemos poner $-1$.\n",
    "\n",
    "</span>"
   ]
  },
  {
   "cell_type": "code",
   "execution_count": 13,
   "metadata": {},
   "outputs": [
    {
     "data": {
      "text/plain": [
       "12"
      ]
     },
     "execution_count": 13,
     "metadata": {},
     "output_type": "execute_result"
    }
   ],
   "source": [
    "x.numel()"
   ]
  },
  {
   "cell_type": "code",
   "execution_count": 12,
   "metadata": {},
   "outputs": [
    {
     "data": {
      "text/plain": [
       "tensor([[ 0,  1,  2,  3],\n",
       "        [ 4,  5,  6,  7],\n",
       "        [ 8,  9, 10, 11]])"
      ]
     },
     "execution_count": 12,
     "metadata": {},
     "output_type": "execute_result"
    }
   ],
   "source": [
    "# Si queremos que la matriz tenga 3 filas\n",
    "x.reshape(3, -1)"
   ]
  },
  {
   "cell_type": "code",
   "execution_count": 14,
   "metadata": {},
   "outputs": [
    {
     "data": {
      "text/plain": [
       "tensor([[ 0,  1,  2,  3,  4,  5],\n",
       "        [ 6,  7,  8,  9, 10, 11]])"
      ]
     },
     "execution_count": 14,
     "metadata": {},
     "output_type": "execute_result"
    }
   ],
   "source": [
    "# Si queremos que la matriz tenga 6 columnas\n",
    "x.reshape(-1, 6)"
   ]
  },
  {
   "cell_type": "code",
   "execution_count": 15,
   "metadata": {},
   "outputs": [
    {
     "data": {
      "text/plain": [
       "tensor([[ 0],\n",
       "        [ 1],\n",
       "        [ 2],\n",
       "        [ 3],\n",
       "        [ 4],\n",
       "        [ 5],\n",
       "        [ 6],\n",
       "        [ 7],\n",
       "        [ 8],\n",
       "        [ 9],\n",
       "        [10],\n",
       "        [11]])"
      ]
     },
     "execution_count": 15,
     "metadata": {},
     "output_type": "execute_result"
    }
   ],
   "source": [
    "# Si queremos convertir el vector en una matriz columna\n",
    "x.reshape(-1, 1)"
   ]
  },
  {
   "cell_type": "code",
   "execution_count": 16,
   "metadata": {},
   "outputs": [
    {
     "ename": "RuntimeError",
     "evalue": "shape '[5, -1]' is invalid for input of size 12",
     "output_type": "error",
     "traceback": [
      "\u001b[0;31m---------------------------------------------------------------------------\u001b[0m",
      "\u001b[0;31mRuntimeError\u001b[0m                              Traceback (most recent call last)",
      "Cell \u001b[0;32mIn[16], line 2\u001b[0m\n\u001b[1;32m      1\u001b[0m \u001b[38;5;66;03m# Como 5 no es múltiplo de 12 obtenemos un error.\u001b[39;00m\n\u001b[0;32m----> 2\u001b[0m \u001b[43mx\u001b[49m\u001b[38;5;241;43m.\u001b[39;49m\u001b[43mreshape\u001b[49m\u001b[43m(\u001b[49m\u001b[38;5;241;43m5\u001b[39;49m\u001b[43m,\u001b[49m\u001b[43m \u001b[49m\u001b[38;5;241;43m-\u001b[39;49m\u001b[38;5;241;43m1\u001b[39;49m\u001b[43m)\u001b[49m\n",
      "\u001b[0;31mRuntimeError\u001b[0m: shape '[5, -1]' is invalid for input of size 12"
     ]
    }
   ],
   "source": [
    "# Como 5 no es múltiplo de 12 obtenemos un error.\n",
    "x.reshape(5, -1)"
   ]
  },
  {
   "cell_type": "code",
   "execution_count": 17,
   "metadata": {},
   "outputs": [
    {
     "name": "stdout",
     "output_type": "stream",
     "text": [
      "La dimensión del tensor es torch.Size([2, 3, 4])\n",
      "Es un tensor de orden 3\n",
      "El número de componentes del tensor es 24 \n",
      "\n",
      "tensor([[[0., 0., 0., 0.],\n",
      "         [0., 0., 0., 0.],\n",
      "         [0., 0., 0., 0.]],\n",
      "\n",
      "        [[0., 0., 0., 0.],\n",
      "         [0., 0., 0., 0.],\n",
      "         [0., 0., 0., 0.]]])\n"
     ]
    }
   ],
   "source": [
    "# Muchas veces necesitamos iniciar tensores que solo tengan ceros o unos\n",
    "# Aquí formamos un tensor formado por 2 matrices, las cuales tienen tamaño 3x4\n",
    "zeros = torch.zeros(2, 3, 4)\n",
    "info_tensor(zeros)"
   ]
  },
  {
   "cell_type": "code",
   "execution_count": 18,
   "metadata": {},
   "outputs": [
    {
     "name": "stdout",
     "output_type": "stream",
     "text": [
      "La dimensión del tensor es torch.Size([2, 3, 2, 2])\n",
      "Es un tensor de orden 4\n",
      "El número de componentes del tensor es 24 \n",
      "\n",
      "tensor([[[[1., 1.],\n",
      "          [1., 1.]],\n",
      "\n",
      "         [[1., 1.],\n",
      "          [1., 1.]],\n",
      "\n",
      "         [[1., 1.],\n",
      "          [1., 1.]]],\n",
      "\n",
      "\n",
      "        [[[1., 1.],\n",
      "          [1., 1.]],\n",
      "\n",
      "         [[1., 1.],\n",
      "          [1., 1.]],\n",
      "\n",
      "         [[1., 1.],\n",
      "          [1., 1.]]]])\n"
     ]
    }
   ],
   "source": [
    "# Tensor de orden=4\n",
    "ones = torch.ones(2, 3, 2, 2)\n",
    "info_tensor(ones)"
   ]
  },
  {
   "cell_type": "code",
   "execution_count": 25,
   "metadata": {},
   "outputs": [
    {
     "name": "stdout",
     "output_type": "stream",
     "text": [
      "La dimensión del tensor es torch.Size([3, 4])\n",
      "Es un tensor de orden 2\n",
      "El número de componentes del tensor es 12 \n",
      "\n",
      "tensor([[ 0.9083, -0.6855, -1.0235, -1.7231],\n",
      "        [-1.3310,  1.1677, -0.4742,  0.8136],\n",
      "        [ 1.3269,  0.8200,  0.1438, -0.9321]])\n"
     ]
    }
   ],
   "source": [
    "# Tensor de elementos aleatorios tomados de la distribución normal\n",
    "# Con media = 0 y std = 1\n",
    "randn_tensor = torch.randn(3, 4)\n",
    "info_tensor(randn_tensor)"
   ]
  },
  {
   "cell_type": "code",
   "execution_count": 34,
   "metadata": {},
   "outputs": [
    {
     "name": "stdout",
     "output_type": "stream",
     "text": [
      "La dimensión del tensor es torch.Size([2, 3])\n",
      "Es un tensor de orden 2\n",
      "El número de componentes del tensor es 6 \n",
      "\n",
      "tensor([[-2., -2., -5.],\n",
      "        [-9.,  9., -5.]])\n"
     ]
    }
   ],
   "source": [
    "# Tensor con enteros aleatorios entre -10 y 10 de dimensión 2x3\n",
    "randint_tensor = torch.randint(-10, 10, (2, 3)).float()\n",
    "info_tensor(randint_tensor)"
   ]
  },
  {
   "cell_type": "code",
   "execution_count": 35,
   "metadata": {},
   "outputs": [
    {
     "data": {
      "text/plain": [
       "tensor([[2, 1, 4, 3],\n",
       "        [1, 2, 3, 4],\n",
       "        [4, 3, 2, 1]])"
      ]
     },
     "execution_count": 35,
     "metadata": {},
     "output_type": "execute_result"
    }
   ],
   "source": [
    "torch.tensor([[2, 1, 4, 3], [1, 2, 3, 4], [4, 3, 2, 1]])"
   ]
  },
  {
   "cell_type": "markdown",
   "metadata": {},
   "source": [
    "## 1.1.2 Indexing and Slicing\n",
    "\n",
    "<span style=\"font-size: 20px\">\n",
    "\n",
    "- ¿Cómo accedemos a diferentes componentes de un tensor?\n",
    "\n",
    "</span>"
   ]
  },
  {
   "cell_type": "code",
   "execution_count": null,
   "metadata": {},
   "outputs": [],
   "source": [
    "X = torch.randint(-10, 10, (3, 4))\n",
    "X"
   ]
  },
  {
   "cell_type": "code",
   "execution_count": null,
   "metadata": {},
   "outputs": [],
   "source": [
    "X[0]"
   ]
  },
  {
   "cell_type": "code",
   "execution_count": null,
   "metadata": {},
   "outputs": [],
   "source": [
    "X[0, 3]"
   ]
  },
  {
   "cell_type": "code",
   "execution_count": null,
   "metadata": {},
   "outputs": [],
   "source": [
    "X[1:]"
   ]
  },
  {
   "cell_type": "code",
   "execution_count": null,
   "metadata": {},
   "outputs": [],
   "source": [
    "X[1:, 2]"
   ]
  },
  {
   "cell_type": "code",
   "execution_count": null,
   "metadata": {},
   "outputs": [],
   "source": [
    "X[1:, 2:]"
   ]
  },
  {
   "cell_type": "code",
   "execution_count": null,
   "metadata": {},
   "outputs": [],
   "source": [
    "X = torch.arange(0, 100).reshape(5, 2, 10)\n",
    "X"
   ]
  },
  {
   "cell_type": "code",
   "execution_count": null,
   "metadata": {},
   "outputs": [],
   "source": [
    "# ¿Cómo accedemos a la última matriz del tensor?\n",
    "X[-1]"
   ]
  },
  {
   "cell_type": "code",
   "execution_count": null,
   "metadata": {},
   "outputs": [],
   "source": [
    "# ¿Qué nos devolverá esto?\n",
    "X[1:, 0, -2:]"
   ]
  },
  {
   "cell_type": "code",
   "execution_count": null,
   "metadata": {},
   "outputs": [],
   "source": [
    "# ¿Qué nos devolverá esto?\n",
    "X[1:, :, 4:]"
   ]
  },
  {
   "cell_type": "code",
   "execution_count": null,
   "metadata": {},
   "outputs": [],
   "source": [
    "# ¿Qué obtendremos?\n",
    "X[3:, :, 0:2]"
   ]
  },
  {
   "cell_type": "code",
   "execution_count": null,
   "metadata": {},
   "outputs": [],
   "source": [
    "# ¿Qué obtendremos?\n",
    "X[-2, 0, 5:]"
   ]
  },
  {
   "cell_type": "markdown",
   "metadata": {},
   "source": [
    "## 1.1.3 Operaciones"
   ]
  },
  {
   "cell_type": "markdown",
   "metadata": {},
   "source": [
    "- En este vídeo aprenderemos a manipular tensores con operaciones matemáticas"
   ]
  },
  {
   "cell_type": "code",
   "execution_count": null,
   "metadata": {},
   "outputs": [],
   "source": [
    "x = torch.arange(12)"
   ]
  },
  {
   "cell_type": "code",
   "execution_count": null,
   "metadata": {},
   "outputs": [],
   "source": [
    "torch.exp(x)"
   ]
  },
  {
   "cell_type": "code",
   "execution_count": null,
   "metadata": {},
   "outputs": [],
   "source": [
    "torch.sqrt(x)"
   ]
  },
  {
   "cell_type": "code",
   "execution_count": null,
   "metadata": {},
   "outputs": [],
   "source": [
    "torch.log(torch.exp(x))"
   ]
  },
  {
   "cell_type": "code",
   "execution_count": null,
   "metadata": {},
   "outputs": [],
   "source": [
    "x.exp().log()"
   ]
  },
  {
   "cell_type": "code",
   "execution_count": null,
   "metadata": {},
   "outputs": [],
   "source": [
    "# Operaciones de realizan elemento a elemento (elementwise)\n",
    "# Como los tensores tienen la misma shape no da error\n",
    "x = torch.tensor([1.0, 2, 4, 8])\n",
    "y = torch.tensor([2, 2, 2, 2])\n",
    "x + y, x - y, x * y, x / y, x ** y"
   ]
  },
  {
   "cell_type": "code",
   "execution_count": null,
   "metadata": {},
   "outputs": [],
   "source": [
    "# Concatenación de tensores\n",
    "X = torch.arange(12, dtype=torch.float32).reshape((3,4))\n",
    "Y = torch.tensor([[2.0, 1, 4, 3], [1, 2, 3, 4], [4, 3, 2, 1]])\n",
    "print(X, \"\\n\\n\", Y)"
   ]
  },
  {
   "cell_type": "code",
   "execution_count": null,
   "metadata": {},
   "outputs": [],
   "source": [
    "# Error porque tienen diferente shape.\n",
    "X.reshape(-1, 1) + Y"
   ]
  },
  {
   "cell_type": "code",
   "execution_count": null,
   "metadata": {},
   "outputs": [],
   "source": [
    "# dim=0 implica que se añaden a lo largo de las columnas.\n",
    "torch.cat((X, Y), dim=0)"
   ]
  },
  {
   "cell_type": "code",
   "execution_count": null,
   "metadata": {},
   "outputs": [],
   "source": [
    "# dim=1 implica que se añaden a lo largo de las filas\n",
    "torch.cat((X, Y), dim=1)"
   ]
  },
  {
   "cell_type": "code",
   "execution_count": null,
   "metadata": {},
   "outputs": [],
   "source": [
    "X = torch.randint(1, 10, (2, 3))\n",
    "Y = torch.randint(-10, -1, (5, 3))\n",
    "\n",
    "# No hay error porque el número de columnas de X es igual al de Y\n",
    "torch.cat((X, Y), dim=0)"
   ]
  },
  {
   "cell_type": "code",
   "execution_count": null,
   "metadata": {},
   "outputs": [],
   "source": [
    "# Hay error porque el número de filas de Y es diferente al de X\n",
    "torch.cat((X, Y), dim=1)"
   ]
  },
  {
   "cell_type": "code",
   "execution_count": null,
   "metadata": {},
   "outputs": [],
   "source": [
    "X = torch.randint(-10, 10, (5, 3))\n",
    "Y = torch.randint(-10, 10, (5, 3))\n",
    "\n",
    "bool_tensor = X == Y\n",
    "bool_tensor"
   ]
  },
  {
   "cell_type": "code",
   "execution_count": null,
   "metadata": {},
   "outputs": [],
   "source": [
    "# Suma a lo largo de las columnas.\n",
    "bool_tensor.sum(dim=0)"
   ]
  },
  {
   "cell_type": "code",
   "execution_count": null,
   "metadata": {},
   "outputs": [],
   "source": [
    "# Suma a lo largo de las filas.\n",
    "bool_tensor.sum(dim=1)"
   ]
  },
  {
   "cell_type": "code",
   "execution_count": null,
   "metadata": {},
   "outputs": [],
   "source": [
    "# Suma todos los elementos entre sí.\n",
    "bool_tensor.sum()"
   ]
  },
  {
   "cell_type": "markdown",
   "metadata": {},
   "source": [
    "## 1.1.4 Broadcasting.\n",
    "\n",
    "- Hemos visto que podemos hacer operaciones con tensores que tengan la misma *shape*.\n",
    "\n",
    "- En ciertas condiciones podremos realizar operaciones entre tensores aunque tengan diferente shape."
   ]
  },
  {
   "cell_type": "code",
   "execution_count": null,
   "metadata": {},
   "outputs": [],
   "source": [
    "a = torch.randint(-10, 10, (5, 3), dtype=float)\n",
    "print(a)\n",
    "# Podemos aplicar operaciones de tensores con números sueltos\n",
    "a + 2, a*2, a**2, a - 2"
   ]
  },
  {
   "cell_type": "markdown",
   "metadata": {},
   "source": [
    "- Supón que una matriz tiene tamaño $m\\times n$.\n",
    "\n",
    "- Si otra matriz tiene tamaño $1\\times n$ entonces se podrá realizar broadcasting.\n",
    "\n",
    "- Si otra matriz tiene tamaño $m\\times 1$ entonces se podrá realizar broadcasting."
   ]
  },
  {
   "cell_type": "code",
   "execution_count": null,
   "metadata": {},
   "outputs": [],
   "source": [
    "b = torch.randint(-10, 10, (1, 3))\n",
    "b"
   ]
  },
  {
   "cell_type": "code",
   "execution_count": null,
   "metadata": {},
   "outputs": [],
   "source": [
    "a + b"
   ]
  },
  {
   "cell_type": "code",
   "execution_count": null,
   "metadata": {},
   "outputs": [],
   "source": [
    "c = torch.randint(-10, 10, (a.shape[0], 1))\n",
    "c"
   ]
  },
  {
   "cell_type": "code",
   "execution_count": null,
   "metadata": {},
   "outputs": [],
   "source": [
    "a + c"
   ]
  },
  {
   "cell_type": "code",
   "execution_count": null,
   "metadata": {},
   "outputs": [],
   "source": [
    "a"
   ]
  },
  {
   "cell_type": "code",
   "execution_count": null,
   "metadata": {},
   "outputs": [],
   "source": [
    "# Estandarizamos la matriz a por columnas\n",
    "a_col_stan = (a - a.mean(dim=0)) / a.std(dim=0)\n",
    "a_col_stan.mean(dim=0), a_stan.std(dim=0)"
   ]
  },
  {
   "cell_type": "code",
   "execution_count": null,
   "metadata": {},
   "outputs": [],
   "source": [
    "# Estandarizar por filas \n",
    "a_row_stan = (a - a.mean(dim=1).reshape(-1, 1)) / a.std(dim=1).reshape(-1, 1)\n",
    "a_row_stan.mean(dim=1), a_row_stan.std(dim=1)"
   ]
  }
 ],
 "metadata": {
  "kernelspec": {
   "display_name": "my_env",
   "language": "python",
   "name": "my_env"
  },
  "language_info": {
   "codemirror_mode": {
    "name": "ipython",
    "version": 3
   },
   "file_extension": ".py",
   "mimetype": "text/x-python",
   "name": "python",
   "nbconvert_exporter": "python",
   "pygments_lexer": "ipython3",
   "version": "3.9.18"
  }
 },
 "nbformat": 4,
 "nbformat_minor": 2
}
